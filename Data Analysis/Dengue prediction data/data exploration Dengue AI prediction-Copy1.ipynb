{
 "cells": [
  {
   "cell_type": "markdown",
   "metadata": {},
   "source": [
    "# Sketching a hypothesis\n"
   ]
  },
  {
   "cell_type": "markdown",
   "metadata": {},
   "source": [
    "I assume you have a fair idea about data exploration or you have gone through the recommended article. In both the cases you are ready to go ahead and mesh around with data.\n",
    "Well, my approach in this article is to take a real life problem and analyse it. As usual, we will have a problem statement and a data set. We will try to generate a hypothesis which provides some sort of understanding of data set.\n",
    "The reason behind my approach is that in my belief problem solving is the best possible way to learn something. So, let's go ahead and have fun.\n",
    "\n",
    "Problem Statement: You are given a data set of number of dengue cases reported during different periods of times in two cities San Juan and Iquitos. Generate a hypothesis which relates the total number of cases to possible variables. \n",
    "\n",
    "Note that this statement is not the problem statement generally given in problems. I have framed it specifically for data exploration task. \n",
    "\n",
    "Now, there are several possible approaches varying person to person. For example, someone looks at the data first and makes plots and tables to end up with some hypothesis. Someone else could go around the problem by applying some machine learning algorithm and from the results, he/she could roughly infer the importance of variables and what is going on there. A third person could first generate a hypothesis based on prior knowledge and intuition about the problem and could prove or disprove his/her assumptions later with the help of data. This list should go on and on and on. Are you wondering about my approach? Well, I will definitely disclose it but before that, let me give you some intuition why I prefer this approach.\n",
    "\n",
    "Suppose you have planned to attend an information packed meetup organized by Analytics Vidhya. Now, you would definitely want to make maximum out of it. Here comes the real question- HOW? \n",
    "A very genuine answer should be that I will try to understand whatever the speaker has to tell and will ask doubts if any. Apart from this, I should have a list of expected informations even before I step into the meetup hall. In case the speaker doesn't quote about those topics, I should ask him/her explicitly. But, next few points to ponder is that how should I get that list of questions. Will I ask random questions? Doesn't make any sense. Would I be able to understand all the information the speaker is going to deliver and make sense out of it at the moment? The final question is - What should I do to overcome these problems? And the answer is pretty simple and straight forward. Do enough home work on the topic and sketch a rough outline of the expected structure of talk. If some one attends an information packed session without proper home work on topic, all he/she will get out of it is notes of lecture delivered by speaker. The reason behind it is in case we are blank about topic, our mind flows in the direction of talk and is unable to think out of the information provided by speaker. \n",
    "Now, try to relate it our situtaion. The speaker is our data set and the questions I am talking about is our hypothesis. If we directly jump upon data, we are generally unable to think anything else other than the variables in the data and information in the plots. \n",
    "So, my approach in this article should be to first generate hypothesis based on my prior knowledge about dengue and will prove or disprove later it if possible. Note that the hypothesis I am talking about should be generated before we look at the data. This approach of exploration is very common in industry. Analysts do a lots of brain storming to generate a hypothesis before they actually look at the data for the first time. \n",
    "After the introduction to approach, let me introduce Dengue. Obviously, you will need a more extensive reasearch on the topic to generate a hypothesis.  \n",
    "Dengue is a mosquito borne viral-disease occuring in tropical and su-tropical regions. It is spread by several species of mosquito of Aedes type.Humans are the primary host of the virus. Dengue can be life threatening in some cases and has been a global problem since world war 2. Millions of people get infected by Dengue each year. \n",
    "Based on our prior knowledge, let's try to generate a hypothesis. Please note that the purpose of the hypothesis generation is to illustrate the process of data exploration and not to provide you a scientifically correct hypothesis. \n",
    "There are two key links which cause Dengue - mosquito and virus. Wherever the most favourable situation will be available, number of cases reporetd should be high. Note that, I have used word 'should' because there are other possible factors. Also, it is not complusory that wherever the situation is favourable, Dengue cases must happen. Apart from this, geographical conditions, socio-economic state of the city and even race are factors.Based on these assumptions, I have created a hypothesis which is listed below. You too can think of other points or can generate complete hypothesis on your own. \n",
    "\n",
    "1. More the temperature at a place, higher should be the number of cases. Some papers suggest that high temperature is favourable for Dengue virus.\n",
    "2. Greater the change in climate, more should be the number of cases. \n",
    "3. Greater the rain, higher will be possibility of water logging. More water logging leads to increase in number of mosquitoes which should ultimately lead to higher number of cases.\n",
    "4. Higher the population density, more should be the number of cases.\n",
    "5. Vegetation provides shelter to the mosquitoes. So, higher vegetation should lead to larger number of cases.\n",
    "6. If poverty is prevailant at the place, people should e unable to take enough care of themselves. Hence increase in poverty should lead to higher number of cases.\n",
    "7. If people are un-educated at a place, it is more probable that they should be unaware of causes and precautions of Dengue and hence more prone to Dengue. \n",
    "8. In tropical regions, odds of Dengue are higher as suugested by some papers.\n",
    "9. If the infrastructure in a city is inadequate, public will have lesser support to fight against Dengue and hence number of cases should increase.\n",
    "10. Some of the papers suggets that people of black race are more resistant to Dengue. Hence, larger the fraction of black people in a city, smaller should be number of cases. \n",
    "\n",
    "Having noted down the hypothesis, it's time to verify our hypothesis if possible. Note that a data set can contain less,more or sufficient amount of information to verify a hypothesis. Go on through the article and you will be able make this observation later by yourself."
   ]
  },
  {
   "cell_type": "markdown",
   "metadata": {
    "collapsed": true
   },
   "source": [
    "You should download the data set required for this problem from the link  https://www.drivendata.org/competitions/44/dengai-predicting-disease-spread/data/. Go through the problem statement and variable description thoroughly before starting the implementation. \n",
    "Now, let's get started with implementation. First of all, we will do the usual imports. Please note that if you get stuck with any function, google its documentation. It works in most of the cases. Also you can reach out to us by dropping your comments below."
   ]
  },
  {
   "cell_type": "code",
   "execution_count": 1,
   "metadata": {
    "collapsed": true
   },
   "outputs": [],
   "source": [
    "#importing libraries\n",
    "import pandas as pd\n",
    "import numpy as np\n",
    "import seaborn as sns\n",
    "import matplotlib.pyplot as plt\n",
    "% matplotlib inline"
   ]
  },
  {
   "cell_type": "markdown",
   "metadata": {},
   "source": [
    "Next, we will read our data. I have my training features and target variable in different files. So, I will read the files in two different data frames and then will merge them to create the final data frame."
   ]
  },
  {
   "cell_type": "code",
   "execution_count": 2,
   "metadata": {
    "collapsed": true
   },
   "outputs": [],
   "source": [
    "#read the fatures and labels data sets and merge them to get the final data set\n",
    "df = pd.read_csv(\"C:/Users/HP/Desktop/dengue_features_train.csv\")\n",
    "lb =  pd.read_csv(\"C:/Users/HP/Desktop/dengue_labels_train.csv\")\n",
    "dg = pd.merge(df,lb,on=['city','year','weekofyear'])\n"
   ]
  },
  {
   "cell_type": "markdown",
   "metadata": {},
   "source": [
    "We will start with an overview of the data.Have a look at the final data frame. .head()functions prints first 5 rows in the data set. To print more number of rows, pass the number as argument."
   ]
  },
  {
   "cell_type": "code",
   "execution_count": 3,
   "metadata": {},
   "outputs": [
    {
     "data": {
      "text/html": [
       "<div>\n",
       "<style>\n",
       "    .dataframe thead tr:only-child th {\n",
       "        text-align: right;\n",
       "    }\n",
       "\n",
       "    .dataframe thead th {\n",
       "        text-align: left;\n",
       "    }\n",
       "\n",
       "    .dataframe tbody tr th {\n",
       "        vertical-align: top;\n",
       "    }\n",
       "</style>\n",
       "<table border=\"1\" class=\"dataframe\">\n",
       "  <thead>\n",
       "    <tr style=\"text-align: right;\">\n",
       "      <th></th>\n",
       "      <th>city</th>\n",
       "      <th>year</th>\n",
       "      <th>weekofyear</th>\n",
       "      <th>week_start_date</th>\n",
       "      <th>ndvi_ne</th>\n",
       "      <th>ndvi_nw</th>\n",
       "      <th>ndvi_se</th>\n",
       "      <th>ndvi_sw</th>\n",
       "      <th>precipitation_amt_mm</th>\n",
       "      <th>reanalysis_air_temp_k</th>\n",
       "      <th>...</th>\n",
       "      <th>reanalysis_relative_humidity_percent</th>\n",
       "      <th>reanalysis_sat_precip_amt_mm</th>\n",
       "      <th>reanalysis_specific_humidity_g_per_kg</th>\n",
       "      <th>reanalysis_tdtr_k</th>\n",
       "      <th>station_avg_temp_c</th>\n",
       "      <th>station_diur_temp_rng_c</th>\n",
       "      <th>station_max_temp_c</th>\n",
       "      <th>station_min_temp_c</th>\n",
       "      <th>station_precip_mm</th>\n",
       "      <th>total_cases</th>\n",
       "    </tr>\n",
       "  </thead>\n",
       "  <tbody>\n",
       "    <tr>\n",
       "      <th>0</th>\n",
       "      <td>sj</td>\n",
       "      <td>1990</td>\n",
       "      <td>18</td>\n",
       "      <td>1990-04-30</td>\n",
       "      <td>0.122600</td>\n",
       "      <td>0.103725</td>\n",
       "      <td>0.198483</td>\n",
       "      <td>0.177617</td>\n",
       "      <td>12.42</td>\n",
       "      <td>297.572857</td>\n",
       "      <td>...</td>\n",
       "      <td>73.365714</td>\n",
       "      <td>12.42</td>\n",
       "      <td>14.012857</td>\n",
       "      <td>2.628571</td>\n",
       "      <td>25.442857</td>\n",
       "      <td>6.900000</td>\n",
       "      <td>29.4</td>\n",
       "      <td>20.0</td>\n",
       "      <td>16.0</td>\n",
       "      <td>4</td>\n",
       "    </tr>\n",
       "    <tr>\n",
       "      <th>1</th>\n",
       "      <td>sj</td>\n",
       "      <td>1990</td>\n",
       "      <td>19</td>\n",
       "      <td>1990-05-07</td>\n",
       "      <td>0.169900</td>\n",
       "      <td>0.142175</td>\n",
       "      <td>0.162357</td>\n",
       "      <td>0.155486</td>\n",
       "      <td>22.82</td>\n",
       "      <td>298.211429</td>\n",
       "      <td>...</td>\n",
       "      <td>77.368571</td>\n",
       "      <td>22.82</td>\n",
       "      <td>15.372857</td>\n",
       "      <td>2.371429</td>\n",
       "      <td>26.714286</td>\n",
       "      <td>6.371429</td>\n",
       "      <td>31.7</td>\n",
       "      <td>22.2</td>\n",
       "      <td>8.6</td>\n",
       "      <td>5</td>\n",
       "    </tr>\n",
       "    <tr>\n",
       "      <th>2</th>\n",
       "      <td>sj</td>\n",
       "      <td>1990</td>\n",
       "      <td>20</td>\n",
       "      <td>1990-05-14</td>\n",
       "      <td>0.032250</td>\n",
       "      <td>0.172967</td>\n",
       "      <td>0.157200</td>\n",
       "      <td>0.170843</td>\n",
       "      <td>34.54</td>\n",
       "      <td>298.781429</td>\n",
       "      <td>...</td>\n",
       "      <td>82.052857</td>\n",
       "      <td>34.54</td>\n",
       "      <td>16.848571</td>\n",
       "      <td>2.300000</td>\n",
       "      <td>26.714286</td>\n",
       "      <td>6.485714</td>\n",
       "      <td>32.2</td>\n",
       "      <td>22.8</td>\n",
       "      <td>41.4</td>\n",
       "      <td>4</td>\n",
       "    </tr>\n",
       "    <tr>\n",
       "      <th>3</th>\n",
       "      <td>sj</td>\n",
       "      <td>1990</td>\n",
       "      <td>21</td>\n",
       "      <td>1990-05-21</td>\n",
       "      <td>0.128633</td>\n",
       "      <td>0.245067</td>\n",
       "      <td>0.227557</td>\n",
       "      <td>0.235886</td>\n",
       "      <td>15.36</td>\n",
       "      <td>298.987143</td>\n",
       "      <td>...</td>\n",
       "      <td>80.337143</td>\n",
       "      <td>15.36</td>\n",
       "      <td>16.672857</td>\n",
       "      <td>2.428571</td>\n",
       "      <td>27.471429</td>\n",
       "      <td>6.771429</td>\n",
       "      <td>33.3</td>\n",
       "      <td>23.3</td>\n",
       "      <td>4.0</td>\n",
       "      <td>3</td>\n",
       "    </tr>\n",
       "    <tr>\n",
       "      <th>4</th>\n",
       "      <td>sj</td>\n",
       "      <td>1990</td>\n",
       "      <td>22</td>\n",
       "      <td>1990-05-28</td>\n",
       "      <td>0.196200</td>\n",
       "      <td>0.262200</td>\n",
       "      <td>0.251200</td>\n",
       "      <td>0.247340</td>\n",
       "      <td>7.52</td>\n",
       "      <td>299.518571</td>\n",
       "      <td>...</td>\n",
       "      <td>80.460000</td>\n",
       "      <td>7.52</td>\n",
       "      <td>17.210000</td>\n",
       "      <td>3.014286</td>\n",
       "      <td>28.942857</td>\n",
       "      <td>9.371429</td>\n",
       "      <td>35.0</td>\n",
       "      <td>23.9</td>\n",
       "      <td>5.8</td>\n",
       "      <td>6</td>\n",
       "    </tr>\n",
       "  </tbody>\n",
       "</table>\n",
       "<p>5 rows × 25 columns</p>\n",
       "</div>"
      ],
      "text/plain": [
       "  city  year  weekofyear week_start_date   ndvi_ne   ndvi_nw   ndvi_se  \\\n",
       "0   sj  1990          18      1990-04-30  0.122600  0.103725  0.198483   \n",
       "1   sj  1990          19      1990-05-07  0.169900  0.142175  0.162357   \n",
       "2   sj  1990          20      1990-05-14  0.032250  0.172967  0.157200   \n",
       "3   sj  1990          21      1990-05-21  0.128633  0.245067  0.227557   \n",
       "4   sj  1990          22      1990-05-28  0.196200  0.262200  0.251200   \n",
       "\n",
       "    ndvi_sw  precipitation_amt_mm  reanalysis_air_temp_k     ...       \\\n",
       "0  0.177617                 12.42             297.572857     ...        \n",
       "1  0.155486                 22.82             298.211429     ...        \n",
       "2  0.170843                 34.54             298.781429     ...        \n",
       "3  0.235886                 15.36             298.987143     ...        \n",
       "4  0.247340                  7.52             299.518571     ...        \n",
       "\n",
       "   reanalysis_relative_humidity_percent  reanalysis_sat_precip_amt_mm  \\\n",
       "0                             73.365714                         12.42   \n",
       "1                             77.368571                         22.82   \n",
       "2                             82.052857                         34.54   \n",
       "3                             80.337143                         15.36   \n",
       "4                             80.460000                          7.52   \n",
       "\n",
       "   reanalysis_specific_humidity_g_per_kg  reanalysis_tdtr_k  \\\n",
       "0                              14.012857           2.628571   \n",
       "1                              15.372857           2.371429   \n",
       "2                              16.848571           2.300000   \n",
       "3                              16.672857           2.428571   \n",
       "4                              17.210000           3.014286   \n",
       "\n",
       "   station_avg_temp_c  station_diur_temp_rng_c  station_max_temp_c  \\\n",
       "0           25.442857                 6.900000                29.4   \n",
       "1           26.714286                 6.371429                31.7   \n",
       "2           26.714286                 6.485714                32.2   \n",
       "3           27.471429                 6.771429                33.3   \n",
       "4           28.942857                 9.371429                35.0   \n",
       "\n",
       "   station_min_temp_c  station_precip_mm  total_cases  \n",
       "0                20.0               16.0            4  \n",
       "1                22.2                8.6            5  \n",
       "2                22.8               41.4            4  \n",
       "3                23.3                4.0            3  \n",
       "4                23.9                5.8            6  \n",
       "\n",
       "[5 rows x 25 columns]"
      ]
     },
     "execution_count": 3,
     "metadata": {},
     "output_type": "execute_result"
    }
   ],
   "source": [
    "dg.head(5)"
   ]
  },
  {
   "cell_type": "markdown",
   "metadata": {},
   "source": [
    "After looking at data, can you figure out which points in our hypothesis can be verified y currently available features? Definitely yes. I mean, there is nothing very tough in it. Also, there are some points in our hypothesis which can not be proved or disproved atleast directly from the given variables in data frame. You have to derive new features or do some research from other sources to comment on them. I will illustrate the point later in the article.  Also, we can think of more points which did not strike to our mind at the time of hypothesis generation. For example-\n",
    "11. As the humidity increases, conditions become favourable for vector mosquito. Hence, number of Dengue cases should grow with humidity.\n",
    "\n",
    "After having an introduction about how the data frame looks like and what are the variables in the data set, let's dive deeper and see the statistics of the data to have a good overview about how the data is distributed and what are the central tendencies of different variables."
   ]
  },
  {
   "cell_type": "code",
   "execution_count": 4,
   "metadata": {},
   "outputs": [
    {
     "data": {
      "text/html": [
       "<div>\n",
       "<style>\n",
       "    .dataframe thead tr:only-child th {\n",
       "        text-align: right;\n",
       "    }\n",
       "\n",
       "    .dataframe thead th {\n",
       "        text-align: left;\n",
       "    }\n",
       "\n",
       "    .dataframe tbody tr th {\n",
       "        vertical-align: top;\n",
       "    }\n",
       "</style>\n",
       "<table border=\"1\" class=\"dataframe\">\n",
       "  <thead>\n",
       "    <tr style=\"text-align: right;\">\n",
       "      <th></th>\n",
       "      <th>year</th>\n",
       "      <th>weekofyear</th>\n",
       "      <th>ndvi_ne</th>\n",
       "      <th>ndvi_nw</th>\n",
       "      <th>ndvi_se</th>\n",
       "      <th>ndvi_sw</th>\n",
       "      <th>precipitation_amt_mm</th>\n",
       "      <th>reanalysis_air_temp_k</th>\n",
       "      <th>reanalysis_avg_temp_k</th>\n",
       "      <th>reanalysis_dew_point_temp_k</th>\n",
       "      <th>...</th>\n",
       "      <th>reanalysis_relative_humidity_percent</th>\n",
       "      <th>reanalysis_sat_precip_amt_mm</th>\n",
       "      <th>reanalysis_specific_humidity_g_per_kg</th>\n",
       "      <th>reanalysis_tdtr_k</th>\n",
       "      <th>station_avg_temp_c</th>\n",
       "      <th>station_diur_temp_rng_c</th>\n",
       "      <th>station_max_temp_c</th>\n",
       "      <th>station_min_temp_c</th>\n",
       "      <th>station_precip_mm</th>\n",
       "      <th>total_cases</th>\n",
       "    </tr>\n",
       "  </thead>\n",
       "  <tbody>\n",
       "    <tr>\n",
       "      <th>count</th>\n",
       "      <td>1456.000000</td>\n",
       "      <td>1456.000000</td>\n",
       "      <td>1262.000000</td>\n",
       "      <td>1404.000000</td>\n",
       "      <td>1434.000000</td>\n",
       "      <td>1434.000000</td>\n",
       "      <td>1443.000000</td>\n",
       "      <td>1446.000000</td>\n",
       "      <td>1446.000000</td>\n",
       "      <td>1446.000000</td>\n",
       "      <td>...</td>\n",
       "      <td>1446.000000</td>\n",
       "      <td>1443.000000</td>\n",
       "      <td>1446.000000</td>\n",
       "      <td>1446.000000</td>\n",
       "      <td>1413.000000</td>\n",
       "      <td>1413.000000</td>\n",
       "      <td>1436.000000</td>\n",
       "      <td>1442.000000</td>\n",
       "      <td>1434.000000</td>\n",
       "      <td>1456.000000</td>\n",
       "    </tr>\n",
       "    <tr>\n",
       "      <th>mean</th>\n",
       "      <td>2001.031593</td>\n",
       "      <td>26.503434</td>\n",
       "      <td>0.142294</td>\n",
       "      <td>0.130553</td>\n",
       "      <td>0.203783</td>\n",
       "      <td>0.202305</td>\n",
       "      <td>45.760388</td>\n",
       "      <td>298.701852</td>\n",
       "      <td>299.225578</td>\n",
       "      <td>295.246356</td>\n",
       "      <td>...</td>\n",
       "      <td>82.161959</td>\n",
       "      <td>45.760388</td>\n",
       "      <td>16.746427</td>\n",
       "      <td>4.903754</td>\n",
       "      <td>27.185783</td>\n",
       "      <td>8.059328</td>\n",
       "      <td>32.452437</td>\n",
       "      <td>22.102150</td>\n",
       "      <td>39.326360</td>\n",
       "      <td>24.675137</td>\n",
       "    </tr>\n",
       "    <tr>\n",
       "      <th>std</th>\n",
       "      <td>5.408314</td>\n",
       "      <td>15.019437</td>\n",
       "      <td>0.140531</td>\n",
       "      <td>0.119999</td>\n",
       "      <td>0.073860</td>\n",
       "      <td>0.083903</td>\n",
       "      <td>43.715537</td>\n",
       "      <td>1.362420</td>\n",
       "      <td>1.261715</td>\n",
       "      <td>1.527810</td>\n",
       "      <td>...</td>\n",
       "      <td>7.153897</td>\n",
       "      <td>43.715537</td>\n",
       "      <td>1.542494</td>\n",
       "      <td>3.546445</td>\n",
       "      <td>1.292347</td>\n",
       "      <td>2.128568</td>\n",
       "      <td>1.959318</td>\n",
       "      <td>1.574066</td>\n",
       "      <td>47.455314</td>\n",
       "      <td>43.596000</td>\n",
       "    </tr>\n",
       "    <tr>\n",
       "      <th>min</th>\n",
       "      <td>1990.000000</td>\n",
       "      <td>1.000000</td>\n",
       "      <td>-0.406250</td>\n",
       "      <td>-0.456100</td>\n",
       "      <td>-0.015533</td>\n",
       "      <td>-0.063457</td>\n",
       "      <td>0.000000</td>\n",
       "      <td>294.635714</td>\n",
       "      <td>294.892857</td>\n",
       "      <td>289.642857</td>\n",
       "      <td>...</td>\n",
       "      <td>57.787143</td>\n",
       "      <td>0.000000</td>\n",
       "      <td>11.715714</td>\n",
       "      <td>1.357143</td>\n",
       "      <td>21.400000</td>\n",
       "      <td>4.528571</td>\n",
       "      <td>26.700000</td>\n",
       "      <td>14.700000</td>\n",
       "      <td>0.000000</td>\n",
       "      <td>0.000000</td>\n",
       "    </tr>\n",
       "    <tr>\n",
       "      <th>25%</th>\n",
       "      <td>1997.000000</td>\n",
       "      <td>13.750000</td>\n",
       "      <td>0.044950</td>\n",
       "      <td>0.049217</td>\n",
       "      <td>0.155087</td>\n",
       "      <td>0.144209</td>\n",
       "      <td>9.800000</td>\n",
       "      <td>297.658929</td>\n",
       "      <td>298.257143</td>\n",
       "      <td>294.118929</td>\n",
       "      <td>...</td>\n",
       "      <td>77.177143</td>\n",
       "      <td>9.800000</td>\n",
       "      <td>15.557143</td>\n",
       "      <td>2.328571</td>\n",
       "      <td>26.300000</td>\n",
       "      <td>6.514286</td>\n",
       "      <td>31.100000</td>\n",
       "      <td>21.100000</td>\n",
       "      <td>8.700000</td>\n",
       "      <td>5.000000</td>\n",
       "    </tr>\n",
       "    <tr>\n",
       "      <th>50%</th>\n",
       "      <td>2002.000000</td>\n",
       "      <td>26.500000</td>\n",
       "      <td>0.128817</td>\n",
       "      <td>0.121429</td>\n",
       "      <td>0.196050</td>\n",
       "      <td>0.189450</td>\n",
       "      <td>38.340000</td>\n",
       "      <td>298.646429</td>\n",
       "      <td>299.289286</td>\n",
       "      <td>295.640714</td>\n",
       "      <td>...</td>\n",
       "      <td>80.301429</td>\n",
       "      <td>38.340000</td>\n",
       "      <td>17.087143</td>\n",
       "      <td>2.857143</td>\n",
       "      <td>27.414286</td>\n",
       "      <td>7.300000</td>\n",
       "      <td>32.800000</td>\n",
       "      <td>22.200000</td>\n",
       "      <td>23.850000</td>\n",
       "      <td>12.000000</td>\n",
       "    </tr>\n",
       "    <tr>\n",
       "      <th>75%</th>\n",
       "      <td>2005.000000</td>\n",
       "      <td>39.250000</td>\n",
       "      <td>0.248483</td>\n",
       "      <td>0.216600</td>\n",
       "      <td>0.248846</td>\n",
       "      <td>0.246982</td>\n",
       "      <td>70.235000</td>\n",
       "      <td>299.833571</td>\n",
       "      <td>300.207143</td>\n",
       "      <td>296.460000</td>\n",
       "      <td>...</td>\n",
       "      <td>86.357857</td>\n",
       "      <td>70.235000</td>\n",
       "      <td>17.978214</td>\n",
       "      <td>7.625000</td>\n",
       "      <td>28.157143</td>\n",
       "      <td>9.566667</td>\n",
       "      <td>33.900000</td>\n",
       "      <td>23.300000</td>\n",
       "      <td>53.900000</td>\n",
       "      <td>28.000000</td>\n",
       "    </tr>\n",
       "    <tr>\n",
       "      <th>max</th>\n",
       "      <td>2010.000000</td>\n",
       "      <td>53.000000</td>\n",
       "      <td>0.508357</td>\n",
       "      <td>0.454429</td>\n",
       "      <td>0.538314</td>\n",
       "      <td>0.546017</td>\n",
       "      <td>390.600000</td>\n",
       "      <td>302.200000</td>\n",
       "      <td>302.928571</td>\n",
       "      <td>298.450000</td>\n",
       "      <td>...</td>\n",
       "      <td>98.610000</td>\n",
       "      <td>390.600000</td>\n",
       "      <td>20.461429</td>\n",
       "      <td>16.028571</td>\n",
       "      <td>30.800000</td>\n",
       "      <td>15.800000</td>\n",
       "      <td>42.200000</td>\n",
       "      <td>25.600000</td>\n",
       "      <td>543.300000</td>\n",
       "      <td>461.000000</td>\n",
       "    </tr>\n",
       "  </tbody>\n",
       "</table>\n",
       "<p>8 rows × 23 columns</p>\n",
       "</div>"
      ],
      "text/plain": [
       "              year   weekofyear      ndvi_ne      ndvi_nw      ndvi_se  \\\n",
       "count  1456.000000  1456.000000  1262.000000  1404.000000  1434.000000   \n",
       "mean   2001.031593    26.503434     0.142294     0.130553     0.203783   \n",
       "std       5.408314    15.019437     0.140531     0.119999     0.073860   \n",
       "min    1990.000000     1.000000    -0.406250    -0.456100    -0.015533   \n",
       "25%    1997.000000    13.750000     0.044950     0.049217     0.155087   \n",
       "50%    2002.000000    26.500000     0.128817     0.121429     0.196050   \n",
       "75%    2005.000000    39.250000     0.248483     0.216600     0.248846   \n",
       "max    2010.000000    53.000000     0.508357     0.454429     0.538314   \n",
       "\n",
       "           ndvi_sw  precipitation_amt_mm  reanalysis_air_temp_k  \\\n",
       "count  1434.000000           1443.000000            1446.000000   \n",
       "mean      0.202305             45.760388             298.701852   \n",
       "std       0.083903             43.715537               1.362420   \n",
       "min      -0.063457              0.000000             294.635714   \n",
       "25%       0.144209              9.800000             297.658929   \n",
       "50%       0.189450             38.340000             298.646429   \n",
       "75%       0.246982             70.235000             299.833571   \n",
       "max       0.546017            390.600000             302.200000   \n",
       "\n",
       "       reanalysis_avg_temp_k  reanalysis_dew_point_temp_k     ...       \\\n",
       "count            1446.000000                  1446.000000     ...        \n",
       "mean              299.225578                   295.246356     ...        \n",
       "std                 1.261715                     1.527810     ...        \n",
       "min               294.892857                   289.642857     ...        \n",
       "25%               298.257143                   294.118929     ...        \n",
       "50%               299.289286                   295.640714     ...        \n",
       "75%               300.207143                   296.460000     ...        \n",
       "max               302.928571                   298.450000     ...        \n",
       "\n",
       "       reanalysis_relative_humidity_percent  reanalysis_sat_precip_amt_mm  \\\n",
       "count                           1446.000000                   1443.000000   \n",
       "mean                              82.161959                     45.760388   \n",
       "std                                7.153897                     43.715537   \n",
       "min                               57.787143                      0.000000   \n",
       "25%                               77.177143                      9.800000   \n",
       "50%                               80.301429                     38.340000   \n",
       "75%                               86.357857                     70.235000   \n",
       "max                               98.610000                    390.600000   \n",
       "\n",
       "       reanalysis_specific_humidity_g_per_kg  reanalysis_tdtr_k  \\\n",
       "count                            1446.000000        1446.000000   \n",
       "mean                               16.746427           4.903754   \n",
       "std                                 1.542494           3.546445   \n",
       "min                                11.715714           1.357143   \n",
       "25%                                15.557143           2.328571   \n",
       "50%                                17.087143           2.857143   \n",
       "75%                                17.978214           7.625000   \n",
       "max                                20.461429          16.028571   \n",
       "\n",
       "       station_avg_temp_c  station_diur_temp_rng_c  station_max_temp_c  \\\n",
       "count         1413.000000              1413.000000         1436.000000   \n",
       "mean            27.185783                 8.059328           32.452437   \n",
       "std              1.292347                 2.128568            1.959318   \n",
       "min             21.400000                 4.528571           26.700000   \n",
       "25%             26.300000                 6.514286           31.100000   \n",
       "50%             27.414286                 7.300000           32.800000   \n",
       "75%             28.157143                 9.566667           33.900000   \n",
       "max             30.800000                15.800000           42.200000   \n",
       "\n",
       "       station_min_temp_c  station_precip_mm  total_cases  \n",
       "count         1442.000000        1434.000000  1456.000000  \n",
       "mean            22.102150          39.326360    24.675137  \n",
       "std              1.574066          47.455314    43.596000  \n",
       "min             14.700000           0.000000     0.000000  \n",
       "25%             21.100000           8.700000     5.000000  \n",
       "50%             22.200000          23.850000    12.000000  \n",
       "75%             23.300000          53.900000    28.000000  \n",
       "max             25.600000         543.300000   461.000000  \n",
       "\n",
       "[8 rows x 23 columns]"
      ]
     },
     "execution_count": 4,
     "metadata": {},
     "output_type": "execute_result"
    }
   ],
   "source": [
    "#statistics of different features in our data\n",
    "dg.describe()"
   ]
  },
  {
   "cell_type": "markdown",
   "metadata": {},
   "source": [
    "Note that .describe() function gives details about the numerical values only.There are seperate methods in python for treating categorical variables."
   ]
  },
  {
   "cell_type": "markdown",
   "metadata": {},
   "source": [
    "To begin with, we will have overview of target variable like how many cases had been reported per city,how many instances of each city are there in our data, in which of years number of cases are maximum and year wise distribution of total_cases. It will give us a fair idea about target variable. Later, we will dive deeper and look at the distribution and statistics of target variable."
   ]
  },
  {
   "cell_type": "code",
   "execution_count": 5,
   "metadata": {},
   "outputs": [
    {
     "data": {
      "text/plain": [
       "sj    936\n",
       "iq    520\n",
       "Name: city, dtype: int64"
      ]
     },
     "execution_count": 5,
     "metadata": {},
     "output_type": "execute_result"
    }
   ],
   "source": [
    "#value_counts for categorical data\n",
    "dg['city'].value_counts()\n"
   ]
  },
  {
   "cell_type": "markdown",
   "metadata": {},
   "source": [
    "There are 936 instances of city San Juan and 520 of iquitos. "
   ]
  },
  {
   "cell_type": "code",
   "execution_count": 6,
   "metadata": {},
   "outputs": [
    {
     "data": {
      "text/plain": [
       "city\n",
       "iq     3934\n",
       "sj    31993\n",
       "Name: total_cases, dtype: int64"
      ]
     },
     "execution_count": 6,
     "metadata": {},
     "output_type": "execute_result"
    }
   ],
   "source": [
    "dg.total_cases.groupby(dg.city).sum()"
   ]
  },
  {
   "cell_type": "markdown",
   "metadata": {},
   "source": [
    "Clearly,  San Juan has far more number of cases than Iquitos. Population density of San Juan in 2010 was 3275 per square kilometer and that of Iquitos was 444,10. But the data says that there are there are way high number of cases in San Juan than Iquitos. What could be the possible reason for such a contradiction. Have a look at the total population and geographical attributes of both the cities from internet and try finding out what's going wrong?"
   ]
  },
  {
   "cell_type": "code",
   "execution_count": 7,
   "metadata": {},
   "outputs": [
    {
     "data": {
      "text/plain": [
       "weekofyear\n",
       "40    1403\n",
       "41    1385\n",
       "42    1345\n",
       "44    1325\n",
       "45    1315\n",
       "43    1256\n",
       "39    1213\n",
       "46    1164\n",
       "47    1161\n",
       "38    1109\n",
       "48    1107\n",
       "37    1105\n",
       "36    1102\n",
       "49    1021\n",
       "35    1016\n",
       "50     924\n",
       "34     920\n",
       "33     906\n",
       "32     898\n",
       "2      728\n",
       "31     720\n",
       "51     704\n",
       "1      678\n",
       "3      677\n",
       "4      652\n",
       "30     633\n",
       "5      620\n",
       "52     605\n",
       "6      530\n",
       "29     511\n",
       "7      487\n",
       "8      478\n",
       "28     464\n",
       "9      453\n",
       "26     404\n",
       "27     403\n",
       "10     387\n",
       "25     344\n",
       "11     313\n",
       "24     305\n",
       "13     302\n",
       "22     296\n",
       "23     281\n",
       "12     279\n",
       "20     254\n",
       "18     241\n",
       "14     239\n",
       "16     239\n",
       "21     237\n",
       "19     236\n",
       "15     232\n",
       "17     212\n",
       "53     108\n",
       "Name: total_cases, dtype: int64"
      ]
     },
     "execution_count": 7,
     "metadata": {},
     "output_type": "execute_result"
    }
   ],
   "source": [
    "week_wise_sum = dg.total_cases.groupby(dg.weekofyear).sum()\n",
    "week_wise_sum.sort_values(ascending=False)"
   ]
  },
  {
   "cell_type": "code",
   "execution_count": 8,
   "metadata": {},
   "outputs": [
    {
     "data": {
      "text/plain": [
       "<matplotlib.axes._subplots.AxesSubplot at 0x158bb7a1ba8>"
      ]
     },
     "execution_count": 8,
     "metadata": {},
     "output_type": "execute_result"
    },
    {
     "data": {
      "image/png": "[encoded data removed]",
      "text/plain": [
       "<matplotlib.figure.Figure at 0x158bb7a1e80>"
      ]
     },
     "metadata": {},
     "output_type": "display_data"
    }
   ],
   "source": [
    "sns.barplot(dg.weekofyear,week_wise_sum)"
   ]
  },
  {
   "cell_type": "markdown",
   "metadata": {},
   "source": [
    "You can clearly see that in weeks 39-46 or so, number of cases is very high. This may suggest that chances of Dengue are higher in a particular season and that season comes around the week 39-46.\n",
    "Lets see if there was an epidemic in any year.We can do it with the help of .groupby() method. What the method does is that it groups the data in different parts according to the chosen variable. Now, if you perform any operation, it will run on each group."
   ]
  },
  {
   "cell_type": "code",
   "execution_count": 9,
   "metadata": {},
   "outputs": [
    {
     "data": {
      "text/plain": [
       "year\n",
       "1990     866\n",
       "1991    2801\n",
       "1992    2371\n",
       "1993    1156\n",
       "1994    6533\n",
       "1995    1333\n",
       "1996     855\n",
       "1997    1454\n",
       "1998    4595\n",
       "1999    1633\n",
       "2000     496\n",
       "2001    1477\n",
       "2002    1156\n",
       "2003    1063\n",
       "2004    1248\n",
       "2005    2116\n",
       "2006     986\n",
       "2007    2334\n",
       "2008     907\n",
       "2009     324\n",
       "2010     223\n",
       "Name: total_cases, dtype: int64"
      ]
     },
     "execution_count": 9,
     "metadata": {},
     "output_type": "execute_result"
    }
   ],
   "source": [
    "#year wise sum of total_cases. observe that number of cases in 1998 is exceptionally high.\n",
    "year_wise_sum=dg.total_cases.groupby(dg.year).sum()\n",
    "year_wise_sum"
   ]
  },
  {
   "cell_type": "markdown",
   "metadata": {},
   "source": [
    "If you notice, in year 1998 the number of cases were extremely high. Again, if you think there is a variable of particular interest,you can describe it separately as well. I will be avoiding doing so explicitly for each variable for obvious reasons."
   ]
  },
  {
   "cell_type": "markdown",
   "metadata": {},
   "source": [
    "Once done with this much insight of target variable and its statistics, the next step is to perform the univariate and multivariate analysis to see whether we were thinking in right direction or not. We will do it with the one of the simplest and easy to interpret tools i.e. histogram for univariate analysis. For bivariate analysis, I will use scatter plot. As far as feature selection is considered, I have chosen our target variable as the dependent variable corresponding to each independent variable. The underlying reason is that I want to see if that particular variable is controllling the output significantly and also if we can observe any interesting trend of relatiions. Normally when working on important business problems, bivariate analysis is performed between almost all the reasonable pairs of faetures for the best possible insight. \n",
    "I will mention the simple attributes and observations I can make in the plots. If you can observe something interesting, mention it in the comments.  Also, I will talk about how to detect outliers. Let's get started with our target variable "
   ]
  },
  {
   "cell_type": "code",
   "execution_count": 10,
   "metadata": {},
   "outputs": [
    {
     "data": {
      "text/plain": [
       "<matplotlib.axes._subplots.AxesSubplot at 0x158bb7a1320>"
      ]
     },
     "execution_count": 10,
     "metadata": {},
     "output_type": "execute_result"
    },
    {
     "data": {
      "image/png": "[encoded data removed]",
      "text/plain": [
       "<matplotlib.figure.Figure at 0x158bbd84860>"
      ]
     },
     "metadata": {},
     "output_type": "display_data"
    }
   ],
   "source": [
    "\n",
    "dg.total_cases.hist(bins=50)"
   ]
  },
  {
   "cell_type": "code",
   "execution_count": 11,
   "metadata": {},
   "outputs": [
    {
     "data": {
      "text/plain": [
       "count    1456.000000\n",
       "mean       24.675137\n",
       "std        43.596000\n",
       "min         0.000000\n",
       "25%         5.000000\n",
       "50%        12.000000\n",
       "75%        28.000000\n",
       "max       461.000000\n",
       "Name: total_cases, dtype: float64"
      ]
     },
     "execution_count": 11,
     "metadata": {},
     "output_type": "execute_result"
    }
   ],
   "source": [
    "dg.total_cases.describe()"
   ]
  },
  {
   "cell_type": "markdown",
   "metadata": {},
   "source": [
    "You can see that the frequency of very large values of total_cases are pretty low which is reasonable. You can not expect a dengue epidemic each week. "
   ]
  },
  {
   "cell_type": "markdown",
   "metadata": {},
   "source": [
    " After this warm up with target variable trend, we will go through each variable one by one and see if the variable relates to our hypothesis in any way and we can prove or disprove our hypothesis. I will start with vegetation index.  "
   ]
  },
  {
   "cell_type": "code",
   "execution_count": 12,
   "metadata": {},
   "outputs": [
    {
     "data": {
      "text/plain": [
       "<matplotlib.axes._subplots.AxesSubplot at 0x158bbd84b70>"
      ]
     },
     "execution_count": 12,
     "metadata": {},
     "output_type": "execute_result"
    },
    {
     "data": {
      "image/png": "[encoded data removed]",
      "text/plain": [
       "<matplotlib.figure.Figure at 0x158bcfca6a0>"
      ]
     },
     "metadata": {},
     "output_type": "display_data"
    }
   ],
   "source": [
    "\n",
    "# the distribution is almost normal \n",
    "dg.ndvi_ne.hist(bins=200)"
   ]
  },
  {
   "cell_type": "code",
   "execution_count": 13,
   "metadata": {},
   "outputs": [
    {
     "data": {
      "text/plain": [
       "count    1262.000000\n",
       "mean        0.142294\n",
       "std         0.140531\n",
       "min        -0.406250\n",
       "25%         0.044950\n",
       "50%         0.128817\n",
       "75%         0.248483\n",
       "max         0.508357\n",
       "Name: ndvi_ne, dtype: float64"
      ]
     },
     "execution_count": 13,
     "metadata": {},
     "output_type": "execute_result"
    }
   ],
   "source": [
    "dg.ndvi_ne.describe()"
   ]
  },
  {
   "cell_type": "markdown",
   "metadata": {},
   "source": [
    "After having an introduction to the distribution of data, let's see if we can infer anything from it or we can relate to our hypothesis."
   ]
  },
  {
   "cell_type": "code",
   "execution_count": 14,
   "metadata": {},
   "outputs": [
    {
     "data": {
      "text/plain": [
       "<matplotlib.collections.PathCollection at 0x158bd483908>"
      ]
     },
     "execution_count": 14,
     "metadata": {},
     "output_type": "execute_result"
    },
    {
     "data": {
      "image/png": "[encoded data removed]",
      "text/plain": [
       "<matplotlib.figure.Figure at 0x158bd076550>"
      ]
     },
     "metadata": {},
     "output_type": "display_data"
    }
   ],
   "source": [
    "\n",
    "plt.scatter(dg['ndvi_ne'],dg['total_cases'])"
   ]
  },
  {
   "cell_type": "markdown",
   "metadata": {},
   "source": [
    "Clearly, what we had assumed in our hypothesis is not completely true. Large values of total_cases are not corresponding to highest values of vegetation. Rather, they are corresponding to middle region of plot. It is definitely contrary to our hypothesis. Now, if you look at the histogram, you can see that most of the data points lie in the middle region.Also, number of cases are governed by other factors also. These can be  probable reason of failure of our hypothesis. Can you think about other reasons?"
   ]
  },
  {
   "cell_type": "markdown",
   "metadata": {},
   "source": [
    "  As mentioned already, I will give you a rough idea about how to detect outliers in data set.\n",
    "  There are certainly other sophisticated methods to detect outliers and selection of a method depends upon the problem wyou are solving. In our case, I will use boxplot."
   ]
  },
  {
   "cell_type": "code",
   "execution_count": 15,
   "metadata": {},
   "outputs": [
    {
     "name": "stderr",
     "output_type": "stream",
     "text": [
      "C:\\Users\\HP\\Anaconda3\\lib\\site-packages\\seaborn\\categorical.py:2171: UserWarning: The boxplot API has been changed. Attempting to adjust your arguments for the new API (which might not work). Please update your code. See the version 0.6 release notes for more info.\n",
      "  warnings.warn(msg, UserWarning)\n"
     ]
    },
    {
     "data": {
      "text/plain": [
       "<matplotlib.axes._subplots.AxesSubplot at 0x158bd2d36d8>"
      ]
     },
     "execution_count": 15,
     "metadata": {},
     "output_type": "execute_result"
    },
    {
     "data": {
      "image/png": "[encoded data removed]",
      "text/plain": [
       "<matplotlib.figure.Figure at 0x158bbe2f828>"
      ]
     },
     "metadata": {},
     "output_type": "display_data"
    }
   ],
   "source": [
    "sns.boxplot(dg['ndvi_ne'],vert = True)"
   ]
  },
  {
   "cell_type": "markdown",
   "metadata": {},
   "source": [
    "Sometimes, it is useful to observe the statistics of the feature to decide which values to declare an outlier. Go back and look at the description of ndvi_ne."
   ]
  },
  {
   "cell_type": "markdown",
   "metadata": {},
   "source": [
    "From the statistics and boxplot, I decided to declare the points whose value is less than -0.25 as outliers. You can chosse a threshhold whatever seems suitable to you in your case."
   ]
  },
  {
   "cell_type": "code",
   "execution_count": 16,
   "metadata": {},
   "outputs": [
    {
     "data": {
      "text/plain": [
       "189   -0.29020\n",
       "519   -0.28700\n",
       "711   -0.26830\n",
       "723   -0.40625\n",
       "821   -0.30840\n",
       "860   -0.27610\n",
       "911   -0.25170\n",
       "929   -0.32140\n",
       "Name: ndvi_ne, dtype: float64"
      ]
     },
     "execution_count": 16,
     "metadata": {},
     "output_type": "execute_result"
    }
   ],
   "source": [
    "#in the boxplot, there are outliers in negative side.lets look at them\n",
    "dg['ndvi_ne'][dg['ndvi_ne']<(-0.25)]"
   ]
  },
  {
   "cell_type": "markdown",
   "metadata": {},
   "source": [
    "OK! Confused with the code? I will explain it for you. The first term in the code is just the column we want to operate on. The second piece is the condition i have chosen to decide whether a data point is an outlier or not.\n",
    "Similarly, explore the other variables too. "
   ]
  },
  {
   "cell_type": "markdown",
   "metadata": {},
   "source": [
    "We have completed analysis of 'ndvi_ne' and should expect similar trend with each remaining vegetation index variable because all that is different between them is the geographical region corresponding to each one of them. So, we will be looking at the remaining ones superficially."
   ]
  },
  {
   "cell_type": "code",
   "execution_count": 17,
   "metadata": {},
   "outputs": [
    {
     "data": {
      "text/plain": [
       "<matplotlib.axes._subplots.AxesSubplot at 0x158bd519320>"
      ]
     },
     "execution_count": 17,
     "metadata": {},
     "output_type": "execute_result"
    },
    {
     "data": {
      "image/png": "[encoded data removed]",
      "text/plain": [
       "<matplotlib.figure.Figure at 0x158bd592ac8>"
      ]
     },
     "metadata": {},
     "output_type": "display_data"
    }
   ],
   "source": [
    "\n",
    "dg.ndvi_nw.hist(bins=100)"
   ]
  },
  {
   "cell_type": "code",
   "execution_count": 18,
   "metadata": {},
   "outputs": [
    {
     "data": {
      "text/plain": [
       "<matplotlib.collections.PathCollection at 0x158bd8667b8>"
      ]
     },
     "execution_count": 18,
     "metadata": {},
     "output_type": "execute_result"
    },
    {
     "data": {
      "image/png": "[encoded data removed]",
      "text/plain": [
       "<matplotlib.figure.Figure at 0x158bd5fcf28>"
      ]
     },
     "metadata": {},
     "output_type": "display_data"
    }
   ],
   "source": [
    "\n",
    "plt.scatter(dg['ndvi_nw'],dg['total_cases'])"
   ]
  },
  {
   "cell_type": "markdown",
   "metadata": {},
   "source": [
    "Again there is no clear cut monotonous relationship which fails our hypothesis. Let's have a look at possible outlier."
   ]
  },
  {
   "cell_type": "code",
   "execution_count": 19,
   "metadata": {},
   "outputs": [
    {
     "data": {
      "text/plain": [
       "<matplotlib.axes._subplots.AxesSubplot at 0x158bd836be0>"
      ]
     },
     "execution_count": 19,
     "metadata": {},
     "output_type": "execute_result"
    },
    {
     "data": {
      "image/png": "[encoded data removed]",
      "text/plain": [
       "<matplotlib.figure.Figure at 0x158bd88efd0>"
      ]
     },
     "metadata": {},
     "output_type": "display_data"
    }
   ],
   "source": [
    "\n",
    "sns.boxplot(dg['ndvi_nw'])"
   ]
  },
  {
   "cell_type": "markdown",
   "metadata": {},
   "source": [
    "clearly, there are 4 points which are far away from ridge of boxplot. Note that the rule I am using is not hard and fast. You can select your criteria depending upon situation. Let's put a threshhold to print them."
   ]
  },
  {
   "cell_type": "code",
   "execution_count": 20,
   "metadata": {},
   "outputs": [
    {
     "data": {
      "text/plain": [
       "658   -0.2528\n",
       "781   -0.2498\n",
       "861   -0.4561\n",
       "919   -0.3096\n",
       "922   -0.2153\n",
       "Name: ndvi_nw, dtype: float64"
      ]
     },
     "execution_count": 20,
     "metadata": {},
     "output_type": "execute_result"
    }
   ],
   "source": [
    "\n",
    "dg['ndvi_nw'][dg['ndvi_nw']<(-0.2)]"
   ]
  },
  {
   "cell_type": "markdown",
   "metadata": {},
   "source": [
    "As both the variables ndvi_ne and ndvi_nw somehow represent vegetation in different areas, there may be correlation between them. Let's see if that is the case"
   ]
  },
  {
   "cell_type": "code",
   "execution_count": 21,
   "metadata": {},
   "outputs": [
    {
     "data": {
      "text/plain": [
       "0.85090195130970359"
      ]
     },
     "execution_count": 21,
     "metadata": {},
     "output_type": "execute_result"
    }
   ],
   "source": [
    "dg['ndvi_ne'].corr(dg['ndvi_nw'],method='pearson',min_periods=None)"
   ]
  },
  {
   "cell_type": "markdown",
   "metadata": {},
   "source": [
    "There is a high correlation between both the variables. It suggests that both the variales should show more or less similar behaviour. Similar intuition can be felt for other variables also."
   ]
  },
  {
   "cell_type": "code",
   "execution_count": 22,
   "metadata": {},
   "outputs": [
    {
     "data": {
      "text/plain": [
       "<matplotlib.axes._subplots.AxesSubplot at 0x158bd86d470>"
      ]
     },
     "execution_count": 22,
     "metadata": {},
     "output_type": "execute_result"
    },
    {
     "data": {
      "image/png": "[encoded data removed]",
      "text/plain": [
       "<matplotlib.figure.Figure at 0x158bd928160>"
      ]
     },
     "metadata": {},
     "output_type": "display_data"
    }
   ],
   "source": [
    "# The distibution is normal.\n",
    "dg.ndvi_se.hist(bins=200)"
   ]
  },
  {
   "cell_type": "code",
   "execution_count": 23,
   "metadata": {},
   "outputs": [
    {
     "data": {
      "text/plain": [
       "<matplotlib.collections.PathCollection at 0x158be21deb8>"
      ]
     },
     "execution_count": 23,
     "metadata": {},
     "output_type": "execute_result"
    },
    {
     "data": {
      "image/png": "[encoded data removed]",
      "text/plain": [
       "<matplotlib.figure.Figure at 0x158bddd03c8>"
      ]
     },
     "metadata": {},
     "output_type": "display_data"
    }
   ],
   "source": [
    "\n",
    "\n",
    "plt.scatter(dg['ndvi_se'],dg['total_cases'])"
   ]
  },
  {
   "cell_type": "markdown",
   "metadata": {},
   "source": [
    "There is no clear cut monotonous relation between ndvi_se and total_cases. Hence failing our\n",
    "hypothesis. There is one possible logic that most of the data points lie in the range 0.1 to 0.3 and hence there is probability that large number of cases could lie in the region. Try to think of other possible reasons. Infact, it should be a practice to think about 'WHY' whenever we disprove our hypothesis or encounter with an unexpected result."
   ]
  },
  {
   "cell_type": "code",
   "execution_count": 24,
   "metadata": {},
   "outputs": [
    {
     "data": {
      "text/plain": [
       "<matplotlib.axes._subplots.AxesSubplot at 0x158be231cc0>"
      ]
     },
     "execution_count": 24,
     "metadata": {},
     "output_type": "execute_result"
    },
    {
     "data": {
      "image/png": "[encoded data removed]",
      "text/plain": [
       "<matplotlib.figure.Figure at 0x158be24de80>"
      ]
     },
     "metadata": {},
     "output_type": "display_data"
    }
   ],
   "source": [
    "sns.boxplot(dg['ndvi_se'])"
   ]
  },
  {
   "cell_type": "markdown",
   "metadata": {},
   "source": [
    "Boxplot clearly shows there are outliers. Again, the outliers can be due to different reasons and can tell different stories at times. "
   ]
  },
  {
   "cell_type": "code",
   "execution_count": 25,
   "metadata": {},
   "outputs": [
    {
     "data": {
      "text/plain": [
       "544     0.393129\n",
       "944     0.406714\n",
       "948     0.404843\n",
       "953     0.455380\n",
       "1002    0.443800\n",
       "1015    0.410267\n",
       "1067    0.414929\n",
       "1108    0.424943\n",
       "1110    0.391214\n",
       "1169    0.403112\n",
       "1215    0.401986\n",
       "1261    0.473400\n",
       "1265    0.437743\n",
       "1316    0.408700\n",
       "1358    0.436914\n",
       "1370    0.427686\n",
       "1409    0.484286\n",
       "1410    0.443357\n",
       "1413    0.538314\n",
       "1426    0.410614\n",
       "Name: ndvi_se, dtype: float64"
      ]
     },
     "execution_count": 25,
     "metadata": {},
     "output_type": "execute_result"
    }
   ],
   "source": [
    "#there are outliers on both side\n",
    "dg['ndvi_se'][dg['ndvi_se']<0.02]\n",
    "dg['ndvi_se'][dg['ndvi_se']>0.39]"
   ]
  },
  {
   "cell_type": "code",
   "execution_count": 26,
   "metadata": {},
   "outputs": [
    {
     "data": {
      "text/plain": [
       "0.55580872944309734"
      ]
     },
     "execution_count": 26,
     "metadata": {},
     "output_type": "execute_result"
    }
   ],
   "source": [
    "dg['ndvi_se'].corr(dg['ndvi_nw'],method='pearson',min_periods=None)"
   ]
  },
  {
   "cell_type": "markdown",
   "metadata": {},
   "source": [
    "Notice the correlation between ndvi_se and ndvi_nw. You can see that although both of the variables represent vegetation index, correlation between them is just 0.55 On the other hand, we got a correlation of 0.85 between ndvi_ne and ndvi_nw which led us to conclusion that vegetation variables should show similar trend. \n",
    "What I want to convey here is that looking at just one graph or table or statistics and saying infering blindly from it could lead us to fatal errors. You should try to verify an inference from each and every possible aspect. "
   ]
  },
  {
   "cell_type": "code",
   "execution_count": 27,
   "metadata": {},
   "outputs": [
    {
     "data": {
      "text/plain": [
       "<matplotlib.axes._subplots.AxesSubplot at 0x158be223be0>"
      ]
     },
     "execution_count": 27,
     "metadata": {},
     "output_type": "execute_result"
    },
    {
     "data": {
      "image/png": "[encoded data removed]",
      "text/plain": [
       "<matplotlib.figure.Figure at 0x158bd928048>"
      ]
     },
     "metadata": {},
     "output_type": "display_data"
    }
   ],
   "source": [
    "# We can treat the distribution as normal for application purpose.\n",
    "dg.ndvi_sw.hist(bins=200)"
   ]
  },
  {
   "cell_type": "code",
   "execution_count": 28,
   "metadata": {},
   "outputs": [
    {
     "data": {
      "text/plain": [
       "<matplotlib.collections.PathCollection at 0x158be7aa7f0>"
      ]
     },
     "execution_count": 28,
     "metadata": {},
     "output_type": "execute_result"
    },
    {
     "data": {
      "image/png": "[encoded data removed]",
      "text/plain": [
       "<matplotlib.figure.Figure at 0x158be362c18>"
      ]
     },
     "metadata": {},
     "output_type": "display_data"
    }
   ],
   "source": [
    "#there is no clear cut co-relation between ndvi_sw and total_cases.\n",
    "plt.scatter(dg['ndvi_sw'],dg['total_cases'])"
   ]
  },
  {
   "cell_type": "code",
   "execution_count": 29,
   "metadata": {},
   "outputs": [
    {
     "data": {
      "text/plain": [
       "<matplotlib.axes._subplots.AxesSubplot at 0x158be782a90>"
      ]
     },
     "execution_count": 29,
     "metadata": {},
     "output_type": "execute_result"
    },
    {
     "data": {
      "image/png": "[encoded data removed]",
      "text/plain": [
       "<matplotlib.figure.Figure at 0x158be7cb198>"
      ]
     },
     "metadata": {},
     "output_type": "display_data"
    }
   ],
   "source": [
    "sns.boxplot(dg['ndvi_sw'])"
   ]
  },
  {
   "cell_type": "code",
   "execution_count": 30,
   "metadata": {},
   "outputs": [
    {
     "data": {
      "text/plain": [
       "977     0.407486\n",
       "989     0.438843\n",
       "998     0.429071\n",
       "1001    0.444400\n",
       "1002    0.546017\n",
       "1008    0.441571\n",
       "1067    0.469700\n",
       "1108    0.432443\n",
       "1110    0.419043\n",
       "1198    0.441343\n",
       "1209    0.421086\n",
       "1215    0.410371\n",
       "1216    0.473143\n",
       "1218    0.417129\n",
       "1261    0.493443\n",
       "1271    0.427600\n",
       "1272    0.414786\n",
       "1279    0.442929\n",
       "1303    0.422500\n",
       "1304    0.489871\n",
       "1311    0.417200\n",
       "1314    0.438129\n",
       "1316    0.422900\n",
       "1327    0.469729\n",
       "1330    0.402971\n",
       "1358    0.465729\n",
       "1364    0.400686\n",
       "1365    0.404843\n",
       "1370    0.545729\n",
       "1371    0.400386\n",
       "1409    0.401914\n",
       "1413    0.514829\n",
       "1423    0.467929\n",
       "Name: ndvi_sw, dtype: float64"
      ]
     },
     "execution_count": 30,
     "metadata": {},
     "output_type": "execute_result"
    }
   ],
   "source": [
    "#again there are outliers on both sides\n",
    "dg['ndvi_sw'][dg['ndvi_sw']<0]\n",
    "dg['ndvi_sw'][dg['ndvi_sw']>0.4]"
   ]
  },
  {
   "cell_type": "markdown",
   "metadata": {},
   "source": [
    "Done with vegetation, it's time for other variables."
   ]
  },
  {
   "cell_type": "code",
   "execution_count": 31,
   "metadata": {},
   "outputs": [
    {
     "data": {
      "text/plain": [
       "<matplotlib.axes._subplots.AxesSubplot at 0x158be2e27f0>"
      ]
     },
     "execution_count": 31,
     "metadata": {},
     "output_type": "execute_result"
    },
    {
     "data": {
      "image/png": "[encoded data removed]",
      "text/plain": [
       "<matplotlib.figure.Figure at 0x158be5376d8>"
      ]
     },
     "metadata": {},
     "output_type": "display_data"
    }
   ],
   "source": [
    "\n",
    "\n",
    "dg.precipitation_amt_mm.hist(bins=100)"
   ]
  },
  {
   "cell_type": "markdown",
   "metadata": {},
   "source": [
    "Clearly,the distribution is not normal.\n",
    "We will have to do some manipulations to get a normal data out of it. Also,\n",
    "it looks like there is outlier in the frequency at left end"
   ]
  },
  {
   "cell_type": "code",
   "execution_count": 32,
   "metadata": {},
   "outputs": [
    {
     "data": {
      "text/plain": [
       "<matplotlib.collections.PathCollection at 0x158beb5fc50>"
      ]
     },
     "execution_count": 32,
     "metadata": {},
     "output_type": "execute_result"
    },
    {
     "data": {
      "image/png": "[encoded data removed]",
      "text/plain": [
       "<matplotlib.figure.Figure at 0x158bead2470>"
      ]
     },
     "metadata": {},
     "output_type": "display_data"
    }
   ],
   "source": [
    "\n",
    "plt.scatter(dg['precipitation_amt_mm'],dg['total_cases'])"
   ]
  },
  {
   "cell_type": "markdown",
   "metadata": {},
   "source": []
  },
  {
   "cell_type": "markdown",
   "metadata": {},
   "source": [
    "Look at the plot. We had assumed that high value of total_cases should occur corresponding to more rain. But the scatter plot is telling something completely different.There could be a possible explanation that most of the population is lying below 100 and so are the large values of total_cases."
   ]
  },
  {
   "cell_type": "code",
   "execution_count": 33,
   "metadata": {},
   "outputs": [
    {
     "data": {
      "text/plain": [
       "<matplotlib.axes._subplots.AxesSubplot at 0x158beb706a0>"
      ]
     },
     "execution_count": 33,
     "metadata": {},
     "output_type": "execute_result"
    },
    {
     "data": {
      "image/png": "[encoded data removed]",
      "text/plain": [
       "<matplotlib.figure.Figure at 0x158beba88d0>"
      ]
     },
     "metadata": {},
     "output_type": "display_data"
    }
   ],
   "source": [
    "dg.reanalysis_air_temp_k.hist(bins=100)\n",
    "#the shape of data is almost normal"
   ]
  },
  {
   "cell_type": "code",
   "execution_count": 34,
   "metadata": {},
   "outputs": [
    {
     "data": {
      "text/plain": [
       "<matplotlib.collections.PathCollection at 0x158bee7d7b8>"
      ]
     },
     "execution_count": 34,
     "metadata": {},
     "output_type": "execute_result"
    },
    {
     "data": {
      "image/png": "[encoded data removed]",
      "text/plain": [
       "<matplotlib.figure.Figure at 0x158bec156d8>"
      ]
     },
     "metadata": {},
     "output_type": "display_data"
    }
   ],
   "source": [
    "\n",
    "plt.scatter(dg['reanalysis_air_temp_k'],dg['total_cases'])"
   ]
  },
  {
   "cell_type": "code",
   "execution_count": null,
   "metadata": {
    "collapsed": true
   },
   "outputs": [],
   "source": []
  },
  {
   "cell_type": "markdown",
   "metadata": {},
   "source": [
    "Most of the high values of total_cases correspond to high air temperature inspite of having good amount of data points in other intervals. It supports our hypothesis that large values of total_cases should correspond to higher temperature.\n",
    "Now, let's jump at average temperature."
   ]
  },
  {
   "cell_type": "code",
   "execution_count": 35,
   "metadata": {
    "scrolled": true
   },
   "outputs": [
    {
     "data": {
      "text/plain": [
       "<matplotlib.axes._subplots.AxesSubplot at 0x158bee8f240>"
      ]
     },
     "execution_count": 35,
     "metadata": {},
     "output_type": "execute_result"
    },
    {
     "data": {
      "image/png": "[encoded data removed]",
      "text/plain": [
       "<matplotlib.figure.Figure at 0x158beea0ba8>"
      ]
     },
     "metadata": {},
     "output_type": "display_data"
    }
   ],
   "source": [
    "#again almost normal distribution\n",
    "dg.reanalysis_avg_temp_k.hist(bins=100)"
   ]
  },
  {
   "cell_type": "code",
   "execution_count": 36,
   "metadata": {
    "scrolled": true
   },
   "outputs": [
    {
     "data": {
      "text/plain": [
       "<matplotlib.collections.PathCollection at 0x158c01636d8>"
      ]
     },
     "execution_count": 36,
     "metadata": {},
     "output_type": "execute_result"
    },
    {
     "data": {
      "image/png": "[encoded data removed]",
      "text/plain": [
       "<matplotlib.figure.Figure at 0x158beea0e48>"
      ]
     },
     "metadata": {},
     "output_type": "display_data"
    }
   ],
   "source": [
    "plt.scatter(dg['reanalysis_avg_temp_k'],dg['total_cases'])"
   ]
  },
  {
   "cell_type": "markdown",
   "metadata": {},
   "source": [
    "Clearly, most of the times large values of total_cases are corresponding to high air temperature. Hence, our hypothesis about temperaure is verifeid. \n",
    "Since both the variables reanalysis_avg_temp_k and reanalysis_air_temp_k represent temperature in some way, it is highly likely that they should be correlated to a handsome extent. Let's find it out.\n"
   ]
  },
  {
   "cell_type": "code",
   "execution_count": 37,
   "metadata": {},
   "outputs": [
    {
     "data": {
      "text/plain": [
       "0.90177744471676946"
      ]
     },
     "execution_count": 37,
     "metadata": {},
     "output_type": "execute_result"
    }
   ],
   "source": [
    "dg['reanalysis_avg_temp_k'].corr(dg['reanalysis_air_temp_k'],method='pearson',min_periods=None)"
   ]
  },
  {
   "cell_type": "markdown",
   "metadata": {},
   "source": [
    "Clearly, there is whopping 0.9 correlation which suggests that our intuition was true. You can do the same with other variables whom you feel that they could be correlated. Also, we will not treat those upcoming temperature variables very rigorously because which seem intuitively highly correlated. The reason is that if both the variables are very highly correlated, they would tend to show almost same behaviour in plots. Let me show you in a scatter plot."
   ]
  },
  {
   "cell_type": "code",
   "execution_count": 38,
   "metadata": {},
   "outputs": [
    {
     "data": {
      "text/plain": [
       "<matplotlib.collections.PathCollection at 0x158c01fff98>"
      ]
     },
     "execution_count": 38,
     "metadata": {},
     "output_type": "execute_result"
    },
    {
     "data": {
      "image/png": "[encoded data removed]",
      "text/plain": [
       "<matplotlib.figure.Figure at 0x158c017f438>"
      ]
     },
     "metadata": {},
     "output_type": "display_data"
    }
   ],
   "source": [
    "plt.scatter(dg.reanalysis_avg_temp_k,dg.reanalysis_air_temp_k)"
   ]
  },
  {
   "cell_type": "markdown",
   "metadata": {},
   "source": [
    "Also, station_avg_temp_k and reanalysis_avg_temp_k should be correlated. Lets check it with scatter plot."
   ]
  },
  {
   "cell_type": "code",
   "execution_count": 39,
   "metadata": {},
   "outputs": [
    {
     "data": {
      "text/plain": [
       "<matplotlib.collections.PathCollection at 0x158c02ae198>"
      ]
     },
     "execution_count": 39,
     "metadata": {},
     "output_type": "execute_result"
    },
    {
     "data": {
      "image/png": "[encoded data removed]",
      "text/plain": [
       "<matplotlib.figure.Figure at 0x158c02430b8>"
      ]
     },
     "metadata": {},
     "output_type": "display_data"
    }
   ],
   "source": [
    "plt.scatter(dg.reanalysis_avg_temp_k,dg.station_avg_temp_c)"
   ]
  },
  {
   "cell_type": "markdown",
   "metadata": {},
   "source": [
    "There is clear correlation between the two variables. You can get the correlation by using .corr() method as illustrated already."
   ]
  },
  {
   "cell_type": "code",
   "execution_count": 40,
   "metadata": {},
   "outputs": [
    {
     "data": {
      "text/plain": [
       "<matplotlib.axes._subplots.AxesSubplot at 0x158bf106f28>"
      ]
     },
     "execution_count": 40,
     "metadata": {},
     "output_type": "execute_result"
    },
    {
     "data": {
      "image/png": "[encoded data removed]",
      "text/plain": [
       "<matplotlib.figure.Figure at 0x158c02cd400>"
      ]
     },
     "metadata": {},
     "output_type": "display_data"
    }
   ],
   "source": [
    "#skewed distribution. \n",
    "dg.reanalysis_dew_point_temp_k.hist(bins=100)"
   ]
  },
  {
   "cell_type": "code",
   "execution_count": 41,
   "metadata": {},
   "outputs": [
    {
     "data": {
      "text/plain": [
       "<matplotlib.collections.PathCollection at 0x158c05ba2b0>"
      ]
     },
     "execution_count": 41,
     "metadata": {},
     "output_type": "execute_result"
    },
    {
     "data": {
      "image/png": "[encoded data removed]",
      "text/plain": [
       "<matplotlib.figure.Figure at 0x158c0539048>"
      ]
     },
     "metadata": {},
     "output_type": "display_data"
    }
   ],
   "source": [
    "#maximum total_cases have occurre in between 295-297\n",
    "\n",
    "plt.scatter(dg['reanalysis_dew_point_temp_k'],dg['total_cases'])"
   ]
  },
  {
   "cell_type": "markdown",
   "metadata": {},
   "source": [
    "Bivariate analysis between independent variables is a very common and useful practice. It avails information about possibility of some sort of relationship between the variables. \n",
    "If you are have some prior knowledge of basic physical chemistry, You can relate to the fact that dew point temperature and relative humidity percent and specific humidity. Have a look "
   ]
  },
  {
   "cell_type": "code",
   "execution_count": 42,
   "metadata": {},
   "outputs": [
    {
     "data": {
      "text/plain": [
       "<matplotlib.collections.PathCollection at 0x158c0653470>"
      ]
     },
     "execution_count": 42,
     "metadata": {},
     "output_type": "execute_result"
    },
    {
     "data": {
      "image/png": "[encoded data removed]",
      "text/plain": [
       "<matplotlib.figure.Figure at 0x158c05c95f8>"
      ]
     },
     "metadata": {},
     "output_type": "display_data"
    }
   ],
   "source": [
    "plt.scatter(dg.reanalysis_dew_point_temp_k,dg.reanalysis_relative_humidity_percent)"
   ]
  },
  {
   "cell_type": "code",
   "execution_count": 43,
   "metadata": {},
   "outputs": [
    {
     "data": {
      "text/plain": [
       "<matplotlib.collections.PathCollection at 0x158c06e6668>"
      ]
     },
     "execution_count": 43,
     "metadata": {},
     "output_type": "execute_result"
    },
    {
     "data": {
      "image/png": "[encoded data removed]",
      "text/plain": [
       "<matplotlib.figure.Figure at 0x158c067fb00>"
      ]
     },
     "metadata": {},
     "output_type": "display_data"
    }
   ],
   "source": [
    "plt.scatter(dg.reanalysis_dew_point_temp_k,dg.reanalysis_specific_humidity_g_per_kg)"
   ]
  },
  {
   "cell_type": "code",
   "execution_count": 44,
   "metadata": {},
   "outputs": [
    {
     "data": {
      "text/plain": [
       "<matplotlib.axes._subplots.AxesSubplot at 0x158c01ac208>"
      ]
     },
     "execution_count": 44,
     "metadata": {},
     "output_type": "execute_result"
    },
    {
     "data": {
      "image/png": "[encoded data removed]",
      "text/plain": [
       "<matplotlib.figure.Figure at 0x158c024e7f0>"
      ]
     },
     "metadata": {},
     "output_type": "display_data"
    }
   ],
   "source": [
    "#skewed distribution\n",
    "dg.reanalysis_max_air_temp_k.hist(bins=100)"
   ]
  },
  {
   "cell_type": "code",
   "execution_count": 45,
   "metadata": {},
   "outputs": [
    {
     "data": {
      "text/plain": [
       "<matplotlib.collections.PathCollection at 0x158c09f7a90>"
      ]
     },
     "execution_count": 45,
     "metadata": {},
     "output_type": "execute_result"
    },
    {
     "data": {
      "image/png": "[encoded data removed]",
      "text/plain": [
       "<matplotlib.figure.Figure at 0x158c02489b0>"
      ]
     },
     "metadata": {},
     "output_type": "display_data"
    }
   ],
   "source": [
    "\n",
    "plt.scatter(dg['reanalysis_max_air_temp_k'],dg['total_cases'])"
   ]
  },
  {
   "cell_type": "markdown",
   "metadata": {},
   "source": [
    "Note that maximum air temperature of air is not contributing to our hypothesis that growing temperature increases the chances of dengue. The possible reason could be that maxima is generally  achieved for a short duration of time and not for a long time. May be, the virus does not get affected significantly in short period and some how survives it."
   ]
  },
  {
   "cell_type": "code",
   "execution_count": 46,
   "metadata": {},
   "outputs": [
    {
     "data": {
      "text/plain": [
       "<matplotlib.axes._subplots.AxesSubplot at 0x158c0a07f98>"
      ]
     },
     "execution_count": 46,
     "metadata": {},
     "output_type": "execute_result"
    },
    {
     "data": {
      "image/png": "[encoded data removed]",
      "text/plain": [
       "<matplotlib.figure.Figure at 0x158c0a24978>"
      ]
     },
     "metadata": {},
     "output_type": "display_data"
    }
   ],
   "source": [
    "#skewed distribution\n",
    "\n",
    "dg.reanalysis_min_air_temp_k.hist(bins=100)"
   ]
  },
  {
   "cell_type": "code",
   "execution_count": 47,
   "metadata": {},
   "outputs": [
    {
     "data": {
      "text/plain": [
       "<matplotlib.collections.PathCollection at 0x158c0d0cdd8>"
      ]
     },
     "execution_count": 47,
     "metadata": {},
     "output_type": "execute_result"
    },
    {
     "data": {
      "image/png": "[encoded data removed]",
      "text/plain": [
       "<matplotlib.figure.Figure at 0x158c0c75048>"
      ]
     },
     "metadata": {},
     "output_type": "display_data"
    }
   ],
   "source": [
    "\n",
    "plt.scatter(dg['reanalysis_min_air_temp_k'],dg['total_cases'])"
   ]
  },
  {
   "cell_type": "markdown",
   "metadata": {},
   "source": [
    "Again high number of cases are occuring at higher minimum temperature supporting our hypothesis."
   ]
  },
  {
   "cell_type": "code",
   "execution_count": 48,
   "metadata": {},
   "outputs": [
    {
     "data": {
      "text/plain": [
       "<matplotlib.axes._subplots.AxesSubplot at 0x158c0cdfe48>"
      ]
     },
     "execution_count": 48,
     "metadata": {},
     "output_type": "execute_result"
    },
    {
     "data": {
      "image/png": "[encoded data removed]",
      "text/plain": [
       "<matplotlib.figure.Figure at 0x158c0d2fac8>"
      ]
     },
     "metadata": {},
     "output_type": "display_data"
    }
   ],
   "source": [
    "#highly right skewed data\n",
    "dg.reanalysis_precip_amt_kg_per_m2.hist(bins=100)"
   ]
  },
  {
   "cell_type": "code",
   "execution_count": 49,
   "metadata": {},
   "outputs": [
    {
     "data": {
      "text/plain": [
       "<matplotlib.collections.PathCollection at 0x158c101c9e8>"
      ]
     },
     "execution_count": 49,
     "metadata": {},
     "output_type": "execute_result"
    },
    {
     "data": {
      "image/png": "[encoded data removed]",
      "text/plain": [
       "<matplotlib.figure.Figure at 0x158c0fd3908>"
      ]
     },
     "metadata": {},
     "output_type": "display_data"
    }
   ],
   "source": [
    "#most of the large number of cases have occured between 0-100. again, maximum number of the times, precip has been in \n",
    "#the same region. so no sense in relating directly.\n",
    "plt.scatter(dg['reanalysis_precip_amt_kg_per_m2'],dg['total_cases'])"
   ]
  },
  {
   "cell_type": "markdown",
   "metadata": {},
   "source": [
    "As earlier in case of rain, most of the population is lying below a certain value and so are the large values of total_cases. Hence, we are unable to say anything clearly about our hypothesis."
   ]
  },
  {
   "cell_type": "code",
   "execution_count": 50,
   "metadata": {},
   "outputs": [
    {
     "data": {
      "text/plain": [
       "<matplotlib.axes._subplots.AxesSubplot at 0x158c0fe9588>"
      ]
     },
     "execution_count": 50,
     "metadata": {},
     "output_type": "execute_result"
    },
    {
     "data": {
      "image/png": "[encoded data removed]",
      "text/plain": [
       "<matplotlib.figure.Figure at 0x158c102cef0>"
      ]
     },
     "metadata": {},
     "output_type": "display_data"
    }
   ],
   "source": [
    "#not a normal distribution \n",
    "dg.reanalysis_relative_humidity_percent.hist(bins=100)"
   ]
  },
  {
   "cell_type": "code",
   "execution_count": 51,
   "metadata": {},
   "outputs": [
    {
     "data": {
      "text/plain": [
       "<matplotlib.collections.PathCollection at 0x158c1333080>"
      ]
     },
     "execution_count": 51,
     "metadata": {},
     "output_type": "execute_result"
    },
    {
     "data": {
      "image/png": "[encoded data removed]",
      "text/plain": [
       "<matplotlib.figure.Figure at 0x158c0c88f28>"
      ]
     },
     "metadata": {},
     "output_type": "display_data"
    }
   ],
   "source": [
    "\n",
    "plt.scatter(dg['reanalysis_relative_humidity_percent'],dg['total_cases'])"
   ]
  },
  {
   "cell_type": "markdown",
   "metadata": {},
   "source": [
    "The case of relative humidity is similar to rain with a difference. There is a good amount of population between the range 90 to 100 but there large values of total_cases is not seen there. It means our hypothesis is not completely true that greater the relative humidity, higher the number of cases. Next case is of rain which we already have seen. So, I will write\n",
    "the code but skip the explanation."
   ]
  },
  {
   "cell_type": "code",
   "execution_count": 52,
   "metadata": {},
   "outputs": [
    {
     "data": {
      "text/plain": [
       "<matplotlib.axes._subplots.AxesSubplot at 0x158c1341978>"
      ]
     },
     "execution_count": 52,
     "metadata": {},
     "output_type": "execute_result"
    },
    {
     "data": {
      "image/png": "[encoded data removed]",
      "text/plain": [
       "<matplotlib.figure.Figure at 0x158c134cda0>"
      ]
     },
     "metadata": {},
     "output_type": "display_data"
    }
   ],
   "source": [
    "#not a normal distribution\n",
    "dg.reanalysis_sat_precip_amt_mm.hist(bins=75)"
   ]
  },
  {
   "cell_type": "code",
   "execution_count": 53,
   "metadata": {},
   "outputs": [
    {
     "data": {
      "text/plain": [
       "<matplotlib.collections.PathCollection at 0x158c15d5470>"
      ]
     },
     "execution_count": 53,
     "metadata": {},
     "output_type": "execute_result"
    },
    {
     "data": {
      "image/png": "[encoded data removed]",
      "text/plain": [
       "<matplotlib.figure.Figure at 0x158c154fda0>"
      ]
     },
     "metadata": {},
     "output_type": "display_data"
    }
   ],
   "source": [
    "plt.scatter(dg['reanalysis_sat_precip_amt_mm'],dg['total_cases'])"
   ]
  },
  {
   "cell_type": "code",
   "execution_count": 54,
   "metadata": {},
   "outputs": [
    {
     "data": {
      "text/plain": [
       "<matplotlib.axes._subplots.AxesSubplot at 0x158c15e7fd0>"
      ]
     },
     "execution_count": 54,
     "metadata": {},
     "output_type": "execute_result"
    },
    {
     "data": {
      "image/png": "[encoded data removed]",
      "text/plain": [
       "<matplotlib.figure.Figure at 0x158c153f828>"
      ]
     },
     "metadata": {},
     "output_type": "display_data"
    }
   ],
   "source": [
    "dg.reanalysis_specific_humidity_g_per_kg.hist(bins=120)"
   ]
  },
  {
   "cell_type": "code",
   "execution_count": 55,
   "metadata": {},
   "outputs": [
    {
     "data": {
      "text/plain": [
       "<matplotlib.collections.PathCollection at 0x158c194ae10>"
      ]
     },
     "execution_count": 55,
     "metadata": {},
     "output_type": "execute_result"
    },
    {
     "data": {
      "image/png": "[encoded data removed]",
      "text/plain": [
       "<matplotlib.figure.Figure at 0x158c18c6ef0>"
      ]
     },
     "metadata": {},
     "output_type": "display_data"
    }
   ],
   "source": [
    "\n",
    "plt.scatter(dg['reanalysis_specific_humidity_g_per_kg'],dg['total_cases'])"
   ]
  },
  {
   "cell_type": "markdown",
   "metadata": {},
   "source": [
    "Large number of cases when humidity is in between 16-19. Although, there is a good fraction of data points lie in intervals other than this range. Hence, we can infer that number of cases increase with humidity."
   ]
  },
  {
   "cell_type": "code",
   "execution_count": 56,
   "metadata": {},
   "outputs": [
    {
     "data": {
      "text/plain": [
       "<matplotlib.axes._subplots.AxesSubplot at 0x158c17ceda0>"
      ]
     },
     "execution_count": 56,
     "metadata": {},
     "output_type": "execute_result"
    },
    {
     "data": {
      "image/png": "[encoded data removed]",
      "text/plain": [
       "<matplotlib.figure.Figure at 0x158c1966c50>"
      ]
     },
     "metadata": {},
     "output_type": "display_data"
    }
   ],
   "source": [
    "# not a normal plot \n",
    "dg.reanalysis_tdtr_k.hist(bins=100)"
   ]
  },
  {
   "cell_type": "code",
   "execution_count": 57,
   "metadata": {},
   "outputs": [
    {
     "data": {
      "text/plain": [
       "<matplotlib.collections.PathCollection at 0x158c2c267b8>"
      ]
     },
     "execution_count": 57,
     "metadata": {},
     "output_type": "execute_result"
    },
    {
     "data": {
      "image/png": "[encoded data removed]",
      "text/plain": [
       "<matplotlib.figure.Figure at 0x158c1877748>"
      ]
     },
     "metadata": {},
     "output_type": "display_data"
    }
   ],
   "source": [
    "\n",
    "plt.scatter(dg['reanalysis_tdtr_k'],dg['total_cases'])"
   ]
  },
  {
   "cell_type": "markdown",
   "metadata": {},
   "source": [
    "Distribution as well as large value of total_cases both lie mostly between 2-4. Also, there are signifcant data points between 6 and 12 but no large values are present in the range. Contrary to this, we had assumed that higher temperature range will lead to more number of cases.Hence, we have conflict between hypothesis and result."
   ]
  },
  {
   "cell_type": "code",
   "execution_count": 58,
   "metadata": {},
   "outputs": [
    {
     "data": {
      "text/plain": [
       "<matplotlib.axes._subplots.AxesSubplot at 0x158c2c45198>"
      ]
     },
     "execution_count": 58,
     "metadata": {},
     "output_type": "execute_result"
    },
    {
     "data": {
      "image/png": "[encoded data removed]",
      "text/plain": [
       "<matplotlib.figure.Figure at 0x158c2c5c978>"
      ]
     },
     "metadata": {},
     "output_type": "display_data"
    }
   ],
   "source": [
    "#a bit left skewed\n",
    "#most of the times temperature is around 24-29 degree celsius.\n",
    "#\n",
    "dg.station_avg_temp_c.hist(bins=100)"
   ]
  },
  {
   "cell_type": "code",
   "execution_count": null,
   "metadata": {
    "collapsed": true
   },
   "outputs": [],
   "source": []
  },
  {
   "cell_type": "code",
   "execution_count": 59,
   "metadata": {},
   "outputs": [
    {
     "data": {
      "text/plain": [
       "<matplotlib.collections.PathCollection at 0x158c2f34860>"
      ]
     },
     "execution_count": 59,
     "metadata": {},
     "output_type": "execute_result"
    },
    {
     "data": {
      "image/png": "[encoded data removed]",
      "text/plain": [
       "<matplotlib.figure.Figure at 0x158c1bdeda0>"
      ]
     },
     "metadata": {},
     "output_type": "display_data"
    }
   ],
   "source": [
    "\"\"\"total_cases are largest when avg temperature is between 26-29\n",
    "\"\"\"\n",
    "\n",
    "plt.scatter(dg['station_avg_temp_c'],dg['total_cases'])"
   ]
  },
  {
   "cell_type": "markdown",
   "metadata": {},
   "source": [
    "Although there are significant number of data points in the range 24-26, most of the large values of total_cases lies between 26-29. This somewhat supports our hypothesis that higher temperature will lead to larger values of total_cases."
   ]
  },
  {
   "cell_type": "code",
   "execution_count": 60,
   "metadata": {},
   "outputs": [
    {
     "data": {
      "text/plain": [
       "<matplotlib.axes._subplots.AxesSubplot at 0x158c2ef8b38>"
      ]
     },
     "execution_count": 60,
     "metadata": {},
     "output_type": "execute_result"
    },
    {
     "data": {
      "image/png": "[encoded data removed]",
      "text/plain": [
       "<matplotlib.figure.Figure at 0x158c2f0c588>"
      ]
     },
     "metadata": {},
     "output_type": "display_data"
    }
   ],
   "source": [
    "# not normal distribution. temperature variation is diverse.\n",
    "\n",
    "dg.station_diur_temp_rng_c.hist(bins=80)"
   ]
  },
  {
   "cell_type": "code",
   "execution_count": 61,
   "metadata": {},
   "outputs": [
    {
     "data": {
      "text/plain": [
       "<matplotlib.collections.PathCollection at 0x158c31e4160>"
      ]
     },
     "execution_count": 61,
     "metadata": {},
     "output_type": "execute_result"
    },
    {
     "data": {
      "image/png": "[encoded data removed]",
      "text/plain": [
       "<matplotlib.figure.Figure at 0x158c3169048>"
      ]
     },
     "metadata": {},
     "output_type": "display_data"
    }
   ],
   "source": [
    "\"\"\"total_cases is high mostly when the temperature variation is in between 6-8 degree celsisus.\"\"\"\n",
    "plt.scatter(dg['station_diur_temp_rng_c'],dg['total_cases'])"
   ]
  },
  {
   "cell_type": "markdown",
   "metadata": {},
   "source": [
    "Again the same thing as I had stated in case of reanalysis_tdtr_k."
   ]
  },
  {
   "cell_type": "code",
   "execution_count": 62,
   "metadata": {},
   "outputs": [
    {
     "data": {
      "text/plain": [
       "<matplotlib.axes._subplots.AxesSubplot at 0x158c31f5208>"
      ]
     },
     "execution_count": 62,
     "metadata": {},
     "output_type": "execute_result"
    },
    {
     "data": {
      "image/png": "[encoded data removed]",
      "text/plain": [
       "<matplotlib.figure.Figure at 0x158c32137f0>"
      ]
     },
     "metadata": {},
     "output_type": "display_data"
    }
   ],
   "source": [
    "#somewhat normal\n",
    "dg.station_max_temp_c.hist(bins=50)"
   ]
  },
  {
   "cell_type": "code",
   "execution_count": 63,
   "metadata": {},
   "outputs": [
    {
     "data": {
      "text/plain": [
       "<matplotlib.collections.PathCollection at 0x158c34118d0>"
      ]
     },
     "execution_count": 63,
     "metadata": {},
     "output_type": "execute_result"
    },
    {
     "data": {
      "image/png": "[encoded data removed]",
      "text/plain": [
       "<matplotlib.figure.Figure at 0x158c339b9b0>"
      ]
     },
     "metadata": {},
     "output_type": "display_data"
    }
   ],
   "source": [
    "# large number of cases have happened when max temperature is in the range 32-35.\n",
    "plt.scatter(dg['station_max_temp_c'],dg['total_cases'])"
   ]
  },
  {
   "cell_type": "code",
   "execution_count": 64,
   "metadata": {},
   "outputs": [
    {
     "data": {
      "text/plain": [
       "<matplotlib.axes._subplots.AxesSubplot at 0x158c33d1d68>"
      ]
     },
     "execution_count": 64,
     "metadata": {},
     "output_type": "execute_result"
    },
    {
     "data": {
      "image/png": "[encoded data removed]",
      "text/plain": [
       "<matplotlib.figure.Figure at 0x158c3428828>"
      ]
     },
     "metadata": {},
     "output_type": "display_data"
    }
   ],
   "source": [
    "#not a normal distribution\n",
    "\n",
    "dg.station_min_temp_c.hist(bins=50)"
   ]
  },
  {
   "cell_type": "code",
   "execution_count": 65,
   "metadata": {},
   "outputs": [
    {
     "data": {
      "text/plain": [
       "<matplotlib.collections.PathCollection at 0x158c362fa20>"
      ]
     },
     "execution_count": 65,
     "metadata": {},
     "output_type": "execute_result"
    },
    {
     "data": {
      "image/png": "[encoded data removed]",
      "text/plain": [
       "<matplotlib.figure.Figure at 0x158c35ba588>"
      ]
     },
     "metadata": {},
     "output_type": "display_data"
    }
   ],
   "source": [
    "plt.scatter(dg['station_min_temp_c'],dg['total_cases'])"
   ]
  },
  {
   "cell_type": "code",
   "execution_count": 66,
   "metadata": {},
   "outputs": [
    {
     "data": {
      "text/plain": [
       "<matplotlib.axes._subplots.AxesSubplot at 0x158c1456860>"
      ]
     },
     "execution_count": 66,
     "metadata": {},
     "output_type": "execute_result"
    },
    {
     "data": {
      "image/png": "[encoded data removed]",
      "text/plain": [
       "<matplotlib.figure.Figure at 0x158c365e550>"
      ]
     },
     "metadata": {},
     "output_type": "display_data"
    }
   ],
   "source": [
    "#not normal\n",
    "# total prec. is less than 100 most of the times.\n",
    "dg.station_precip_mm.hist(bins=100)"
   ]
  },
  {
   "cell_type": "code",
   "execution_count": 67,
   "metadata": {},
   "outputs": [
    {
     "data": {
      "text/plain": [
       "<matplotlib.collections.PathCollection at 0x158c3931b00>"
      ]
     },
     "execution_count": 67,
     "metadata": {},
     "output_type": "execute_result"
    },
    {
     "data": {
      "image/png": "[encoded data removed]",
      "text/plain": [
       "<matplotlib.figure.Figure at 0x158c365ebe0>"
      ]
     },
     "metadata": {},
     "output_type": "display_data"
    }
   ],
   "source": [
    "\n",
    "plt.scatter(dg['station_precip_mm'],dg['total_cases'])"
   ]
  },
  {
   "cell_type": "markdown",
   "metadata": {},
   "source": [
    "Large number of cases happened when station prec. is in between 0 and 100. But there is another logic possible that most of the times prec. is less than 100. So, we can't make any inference from above plots.\n",
    "Later in this article, I will give a correlation chart between each variable. In case you feel that there could be possible correlation between any two variables, you should scroll down to refer or should write code as already mentioned. "
   ]
  },
  {
   "cell_type": "markdown",
   "metadata": {},
   "source": [
    "After so many plots and commands, finally we are done with applying univariate and bivariate  analysis to test our hypothesis. There is a lot more study possible as is always obvious. But for now, we will restrict ourselves here and move forward with other aspects of data exploration."
   ]
  },
  {
   "cell_type": "markdown",
   "metadata": {},
   "source": [
    "The next thing is checking if there are missing values. It's a really important step and must be performed before applying machine learning algorithms. Below, I will print the total number of missing values in each\n",
    "column."
   ]
  },
  {
   "cell_type": "code",
   "execution_count": 68,
   "metadata": {},
   "outputs": [
    {
     "data": {
      "text/plain": [
       "city                                       0\n",
       "year                                       0\n",
       "weekofyear                                 0\n",
       "week_start_date                            0\n",
       "ndvi_ne                                  194\n",
       "ndvi_nw                                   52\n",
       "ndvi_se                                   22\n",
       "ndvi_sw                                   22\n",
       "precipitation_amt_mm                      13\n",
       "reanalysis_air_temp_k                     10\n",
       "reanalysis_avg_temp_k                     10\n",
       "reanalysis_dew_point_temp_k               10\n",
       "reanalysis_max_air_temp_k                 10\n",
       "reanalysis_min_air_temp_k                 10\n",
       "reanalysis_precip_amt_kg_per_m2           10\n",
       "reanalysis_relative_humidity_percent      10\n",
       "reanalysis_sat_precip_amt_mm              13\n",
       "reanalysis_specific_humidity_g_per_kg     10\n",
       "reanalysis_tdtr_k                         10\n",
       "station_avg_temp_c                        43\n",
       "station_diur_temp_rng_c                   43\n",
       "station_max_temp_c                        20\n",
       "station_min_temp_c                        14\n",
       "station_precip_mm                         22\n",
       "total_cases                                0\n",
       "dtype: int64"
      ]
     },
     "execution_count": 68,
     "metadata": {},
     "output_type": "execute_result"
    }
   ],
   "source": [
    "#checkimg for null values. almost all the independent features have missing\n",
    "#values.you can note that feature ndvi_ne \n",
    "#has exceptionally high number of missing values. we will impute the null values in later stages of model building.\n",
    "dg.isnull().sum()"
   ]
  },
  {
   "cell_type": "code",
   "execution_count": null,
   "metadata": {
    "collapsed": true
   },
   "outputs": [],
   "source": []
  },
  {
   "cell_type": "markdown",
   "metadata": {},
   "source": [
    " Have a look again at the original data frame 'dg'. If you run regression   on this data frame, error message will pop up because of null values. Try doing this and see what happens."
   ]
  },
  {
   "cell_type": "markdown",
   "metadata": {},
   "source": [
    "So, before we apply linear regression, let's impute the missing values. There are various methods to do it depending upon the probelm and nature of variable. For now, I will impute NaN with the mean of that particular column."
   ]
  },
  {
   "cell_type": "code",
   "execution_count": 69,
   "metadata": {},
   "outputs": [
    {
     "data": {
      "text/plain": [
       "count    1446.000000\n",
       "mean      299.225578\n",
       "std         1.261715\n",
       "min       294.892857\n",
       "25%       298.257143\n",
       "50%       299.289286\n",
       "75%       300.207143\n",
       "max       302.928571\n",
       "Name: reanalysis_avg_temp_k, dtype: float64"
      ]
     },
     "execution_count": 69,
     "metadata": {},
     "output_type": "execute_result"
    }
   ],
   "source": [
    "dg['reanalysis_avg_temp_k'].describe()"
   ]
  },
  {
   "cell_type": "code",
   "execution_count": 70,
   "metadata": {},
   "outputs": [
    {
     "data": {
      "text/plain": [
       "299.2255779490293"
      ]
     },
     "execution_count": 70,
     "metadata": {},
     "output_type": "execute_result"
    }
   ],
   "source": [
    "impu1 = dg['reanalysis_avg_temp_k'].mean()\n",
    "impu1"
   ]
  },
  {
   "cell_type": "code",
   "execution_count": 71,
   "metadata": {
    "collapsed": true
   },
   "outputs": [],
   "source": [
    "dg['reanalysis_avg_temp_k']=dg['reanalysis_avg_temp_k'].fillna(impu1)"
   ]
  },
  {
   "cell_type": "code",
   "execution_count": 72,
   "metadata": {},
   "outputs": [
    {
     "data": {
      "text/plain": [
       "295.2463564512937"
      ]
     },
     "execution_count": 72,
     "metadata": {},
     "output_type": "execute_result"
    }
   ],
   "source": [
    "impu2 = np.mean(dg.reanalysis_dew_point_temp_k)\n",
    "impu2"
   ]
  },
  {
   "cell_type": "code",
   "execution_count": 73,
   "metadata": {
    "collapsed": true
   },
   "outputs": [],
   "source": [
    "dg.reanalysis_dew_point_temp_k = dg.reanalysis_dew_point_temp_k.fillna(impu2)"
   ]
  },
  {
   "cell_type": "code",
   "execution_count": 74,
   "metadata": {
    "collapsed": true
   },
   "outputs": [],
   "source": [
    "impu3 = np.mean(dg.reanalysis_max_air_temp_k)"
   ]
  },
  {
   "cell_type": "code",
   "execution_count": 75,
   "metadata": {
    "collapsed": true
   },
   "outputs": [],
   "source": [
    "dg.reanalysis_max_air_temp_k = dg.reanalysis_max_air_temp_k.fillna(impu3)"
   ]
  },
  {
   "cell_type": "code",
   "execution_count": 76,
   "metadata": {
    "collapsed": true
   },
   "outputs": [],
   "source": [
    "impu4 = np.mean(dg.reanalysis_min_air_temp_k) "
   ]
  },
  {
   "cell_type": "code",
   "execution_count": 77,
   "metadata": {
    "collapsed": true
   },
   "outputs": [],
   "source": [
    "dg.reanalysis_min_air_temp_k = dg.reanalysis_min_air_temp_k.fillna(impu4)"
   ]
  },
  {
   "cell_type": "code",
   "execution_count": 78,
   "metadata": {
    "collapsed": true
   },
   "outputs": [],
   "source": [
    "impu5 = np.mean(dg.reanalysis_precip_amt_kg_per_m2)"
   ]
  },
  {
   "cell_type": "code",
   "execution_count": 79,
   "metadata": {
    "collapsed": true
   },
   "outputs": [],
   "source": [
    "dg.reanalysis_precip_amt_kg_per_m2 = dg.reanalysis_precip_amt_kg_per_m2.fillna(impu5)                "
   ]
  },
  {
   "cell_type": "code",
   "execution_count": 80,
   "metadata": {
    "collapsed": true
   },
   "outputs": [],
   "source": [
    "impu6 = np.mean(dg.reanalysis_relative_humidity_percent)"
   ]
  },
  {
   "cell_type": "code",
   "execution_count": 81,
   "metadata": {
    "collapsed": true
   },
   "outputs": [],
   "source": [
    "dg.reanalysis_relative_humidity_percent=dg.reanalysis_relative_humidity_percent.fillna(impu6)"
   ]
  },
  {
   "cell_type": "code",
   "execution_count": 82,
   "metadata": {
    "collapsed": true
   },
   "outputs": [],
   "source": [
    "impu7 = np.mean(dg.reanalysis_sat_precip_amt_mm)"
   ]
  },
  {
   "cell_type": "code",
   "execution_count": 83,
   "metadata": {
    "collapsed": true
   },
   "outputs": [],
   "source": [
    "dg.reanalysis_sat_precip_amt_mm = dg.reanalysis_sat_precip_amt_mm.fillna(impu7)                        "
   ]
  },
  {
   "cell_type": "code",
   "execution_count": 84,
   "metadata": {
    "collapsed": true
   },
   "outputs": [],
   "source": [
    "impu8 = dg.station_min_temp_c.mean()  "
   ]
  },
  {
   "cell_type": "code",
   "execution_count": 85,
   "metadata": {
    "collapsed": true
   },
   "outputs": [],
   "source": [
    "dg.station_min_temp_c = dg.station_min_temp_c.fillna(impu8)"
   ]
  },
  {
   "cell_type": "code",
   "execution_count": 86,
   "metadata": {
    "collapsed": true
   },
   "outputs": [],
   "source": [
    "impu9 = dg.station_precip_mm.mean()                       "
   ]
  },
  {
   "cell_type": "code",
   "execution_count": 87,
   "metadata": {
    "collapsed": true
   },
   "outputs": [],
   "source": [
    "dg.station_precip_mm = dg.station_precip_mm.fillna(impu9)                                             "
   ]
  },
  {
   "cell_type": "code",
   "execution_count": 88,
   "metadata": {
    "collapsed": true
   },
   "outputs": [],
   "source": [
    "impu10=dg.ndvi_ne.mean()"
   ]
  },
  {
   "cell_type": "code",
   "execution_count": 89,
   "metadata": {
    "collapsed": true
   },
   "outputs": [],
   "source": [
    "dg.ndvi_ne = dg.ndvi_ne.fillna(impu10)"
   ]
  },
  {
   "cell_type": "code",
   "execution_count": 90,
   "metadata": {
    "collapsed": true
   },
   "outputs": [],
   "source": [
    "impu11=dg.ndvi_nw.mean()"
   ]
  },
  {
   "cell_type": "code",
   "execution_count": 91,
   "metadata": {
    "collapsed": true
   },
   "outputs": [],
   "source": [
    "dg.ndvi_nw = dg.ndvi_nw.fillna(impu11)"
   ]
  },
  {
   "cell_type": "code",
   "execution_count": 92,
   "metadata": {
    "collapsed": true
   },
   "outputs": [],
   "source": [
    "impu12 = dg.ndvi_nw.mean()"
   ]
  },
  {
   "cell_type": "code",
   "execution_count": 93,
   "metadata": {
    "collapsed": true
   },
   "outputs": [],
   "source": [
    "dg.ndvi_se = dg.ndvi_se.fillna(impu12)"
   ]
  },
  {
   "cell_type": "code",
   "execution_count": 94,
   "metadata": {
    "collapsed": true
   },
   "outputs": [],
   "source": [
    "impu13 = dg.ndvi_sw.mean()"
   ]
  },
  {
   "cell_type": "code",
   "execution_count": 95,
   "metadata": {
    "collapsed": true
   },
   "outputs": [],
   "source": [
    "dg.ndvi_sw = dg.ndvi_sw.fillna(impu13)"
   ]
  },
  {
   "cell_type": "markdown",
   "metadata": {},
   "source": [
    "I have chose which column to imput strategically. I have not imputed some of the columns because I want to drop those columns based on corelation. If you are familiar with linear regression, you should know that corelation causes hinderance in proper functioning of linear regression. \n",
    "Next, are you wondering how I decided which columns to drop? I have taken a correlation of about 0.75 as highly correlated columns and have picked columns suitably to drop. Let's see how?"
   ]
  },
  {
   "cell_type": "code",
   "execution_count": 96,
   "metadata": {
    "collapsed": true
   },
   "outputs": [],
   "source": [
    "dg.drop(['reanalysis_air_temp_k','reanalysis_specific_humidity_g_per_kg','reanalysis_tdtr_k','station_avg_temp_c','station_diur_temp_rng_c','station_max_temp_c','precipitation_amt_mm'],axis=1,inplace = True)"
   ]
  },
  {
   "cell_type": "code",
   "execution_count": 97,
   "metadata": {},
   "outputs": [
    {
     "data": {
      "text/html": [
       "<div>\n",
       "<style>\n",
       "    .dataframe thead tr:only-child th {\n",
       "        text-align: right;\n",
       "    }\n",
       "\n",
       "    .dataframe thead th {\n",
       "        text-align: left;\n",
       "    }\n",
       "\n",
       "    .dataframe tbody tr th {\n",
       "        vertical-align: top;\n",
       "    }\n",
       "</style>\n",
       "<table border=\"1\" class=\"dataframe\">\n",
       "  <thead>\n",
       "    <tr style=\"text-align: right;\">\n",
       "      <th></th>\n",
       "      <th>city</th>\n",
       "      <th>year</th>\n",
       "      <th>weekofyear</th>\n",
       "      <th>week_start_date</th>\n",
       "      <th>ndvi_ne</th>\n",
       "      <th>ndvi_nw</th>\n",
       "      <th>ndvi_se</th>\n",
       "      <th>ndvi_sw</th>\n",
       "      <th>reanalysis_avg_temp_k</th>\n",
       "      <th>reanalysis_dew_point_temp_k</th>\n",
       "      <th>reanalysis_max_air_temp_k</th>\n",
       "      <th>reanalysis_min_air_temp_k</th>\n",
       "      <th>reanalysis_precip_amt_kg_per_m2</th>\n",
       "      <th>reanalysis_relative_humidity_percent</th>\n",
       "      <th>reanalysis_sat_precip_amt_mm</th>\n",
       "      <th>station_min_temp_c</th>\n",
       "      <th>station_precip_mm</th>\n",
       "      <th>total_cases</th>\n",
       "    </tr>\n",
       "  </thead>\n",
       "  <tbody>\n",
       "    <tr>\n",
       "      <th>0</th>\n",
       "      <td>sj</td>\n",
       "      <td>1990</td>\n",
       "      <td>18</td>\n",
       "      <td>1990-04-30</td>\n",
       "      <td>0.122600</td>\n",
       "      <td>0.103725</td>\n",
       "      <td>0.198483</td>\n",
       "      <td>0.177617</td>\n",
       "      <td>297.742857</td>\n",
       "      <td>292.414286</td>\n",
       "      <td>299.8</td>\n",
       "      <td>295.9</td>\n",
       "      <td>32.00</td>\n",
       "      <td>73.365714</td>\n",
       "      <td>12.42</td>\n",
       "      <td>20.0</td>\n",
       "      <td>16.0</td>\n",
       "      <td>4</td>\n",
       "    </tr>\n",
       "    <tr>\n",
       "      <th>1</th>\n",
       "      <td>sj</td>\n",
       "      <td>1990</td>\n",
       "      <td>19</td>\n",
       "      <td>1990-05-07</td>\n",
       "      <td>0.169900</td>\n",
       "      <td>0.142175</td>\n",
       "      <td>0.162357</td>\n",
       "      <td>0.155486</td>\n",
       "      <td>298.442857</td>\n",
       "      <td>293.951429</td>\n",
       "      <td>300.9</td>\n",
       "      <td>296.4</td>\n",
       "      <td>17.94</td>\n",
       "      <td>77.368571</td>\n",
       "      <td>22.82</td>\n",
       "      <td>22.2</td>\n",
       "      <td>8.6</td>\n",
       "      <td>5</td>\n",
       "    </tr>\n",
       "    <tr>\n",
       "      <th>2</th>\n",
       "      <td>sj</td>\n",
       "      <td>1990</td>\n",
       "      <td>20</td>\n",
       "      <td>1990-05-14</td>\n",
       "      <td>0.032250</td>\n",
       "      <td>0.172967</td>\n",
       "      <td>0.157200</td>\n",
       "      <td>0.170843</td>\n",
       "      <td>298.878571</td>\n",
       "      <td>295.434286</td>\n",
       "      <td>300.5</td>\n",
       "      <td>297.3</td>\n",
       "      <td>26.10</td>\n",
       "      <td>82.052857</td>\n",
       "      <td>34.54</td>\n",
       "      <td>22.8</td>\n",
       "      <td>41.4</td>\n",
       "      <td>4</td>\n",
       "    </tr>\n",
       "    <tr>\n",
       "      <th>3</th>\n",
       "      <td>sj</td>\n",
       "      <td>1990</td>\n",
       "      <td>21</td>\n",
       "      <td>1990-05-21</td>\n",
       "      <td>0.128633</td>\n",
       "      <td>0.245067</td>\n",
       "      <td>0.227557</td>\n",
       "      <td>0.235886</td>\n",
       "      <td>299.228571</td>\n",
       "      <td>295.310000</td>\n",
       "      <td>301.4</td>\n",
       "      <td>297.0</td>\n",
       "      <td>13.90</td>\n",
       "      <td>80.337143</td>\n",
       "      <td>15.36</td>\n",
       "      <td>23.3</td>\n",
       "      <td>4.0</td>\n",
       "      <td>3</td>\n",
       "    </tr>\n",
       "    <tr>\n",
       "      <th>4</th>\n",
       "      <td>sj</td>\n",
       "      <td>1990</td>\n",
       "      <td>22</td>\n",
       "      <td>1990-05-28</td>\n",
       "      <td>0.196200</td>\n",
       "      <td>0.262200</td>\n",
       "      <td>0.251200</td>\n",
       "      <td>0.247340</td>\n",
       "      <td>299.664286</td>\n",
       "      <td>295.821429</td>\n",
       "      <td>301.9</td>\n",
       "      <td>297.5</td>\n",
       "      <td>12.20</td>\n",
       "      <td>80.460000</td>\n",
       "      <td>7.52</td>\n",
       "      <td>23.9</td>\n",
       "      <td>5.8</td>\n",
       "      <td>6</td>\n",
       "    </tr>\n",
       "  </tbody>\n",
       "</table>\n",
       "</div>"
      ],
      "text/plain": [
       "  city  year  weekofyear week_start_date   ndvi_ne   ndvi_nw   ndvi_se  \\\n",
       "0   sj  1990          18      1990-04-30  0.122600  0.103725  0.198483   \n",
       "1   sj  1990          19      1990-05-07  0.169900  0.142175  0.162357   \n",
       "2   sj  1990          20      1990-05-14  0.032250  0.172967  0.157200   \n",
       "3   sj  1990          21      1990-05-21  0.128633  0.245067  0.227557   \n",
       "4   sj  1990          22      1990-05-28  0.196200  0.262200  0.251200   \n",
       "\n",
       "    ndvi_sw  reanalysis_avg_temp_k  reanalysis_dew_point_temp_k  \\\n",
       "0  0.177617             297.742857                   292.414286   \n",
       "1  0.155486             298.442857                   293.951429   \n",
       "2  0.170843             298.878571                   295.434286   \n",
       "3  0.235886             299.228571                   295.310000   \n",
       "4  0.247340             299.664286                   295.821429   \n",
       "\n",
       "   reanalysis_max_air_temp_k  reanalysis_min_air_temp_k  \\\n",
       "0                      299.8                      295.9   \n",
       "1                      300.9                      296.4   \n",
       "2                      300.5                      297.3   \n",
       "3                      301.4                      297.0   \n",
       "4                      301.9                      297.5   \n",
       "\n",
       "   reanalysis_precip_amt_kg_per_m2  reanalysis_relative_humidity_percent  \\\n",
       "0                            32.00                             73.365714   \n",
       "1                            17.94                             77.368571   \n",
       "2                            26.10                             82.052857   \n",
       "3                            13.90                             80.337143   \n",
       "4                            12.20                             80.460000   \n",
       "\n",
       "   reanalysis_sat_precip_amt_mm  station_min_temp_c  station_precip_mm  \\\n",
       "0                         12.42                20.0               16.0   \n",
       "1                         22.82                22.2                8.6   \n",
       "2                         34.54                22.8               41.4   \n",
       "3                         15.36                23.3                4.0   \n",
       "4                          7.52                23.9                5.8   \n",
       "\n",
       "   total_cases  \n",
       "0            4  \n",
       "1            5  \n",
       "2            4  \n",
       "3            3  \n",
       "4            6  "
      ]
     },
     "execution_count": 97,
     "metadata": {},
     "output_type": "execute_result"
    }
   ],
   "source": [
    "dg.head()"
   ]
  },
  {
   "cell_type": "markdown",
   "metadata": {},
   "source": [
    "We have almost prepared our data for first algorithm. But before proceeding further, double check if still there are missing values because precaution is better than cure and in case of coding, debugging is the worst nightmare you can think of.\n"
   ]
  },
  {
   "cell_type": "code",
   "execution_count": 98,
   "metadata": {},
   "outputs": [
    {
     "data": {
      "text/plain": [
       "city                                    0\n",
       "year                                    0\n",
       "weekofyear                              0\n",
       "week_start_date                         0\n",
       "ndvi_ne                                 0\n",
       "ndvi_nw                                 0\n",
       "ndvi_se                                 0\n",
       "ndvi_sw                                 0\n",
       "reanalysis_avg_temp_k                   0\n",
       "reanalysis_dew_point_temp_k             0\n",
       "reanalysis_max_air_temp_k               0\n",
       "reanalysis_min_air_temp_k               0\n",
       "reanalysis_precip_amt_kg_per_m2         0\n",
       "reanalysis_relative_humidity_percent    0\n",
       "reanalysis_sat_precip_amt_mm            0\n",
       "station_min_temp_c                      0\n",
       "station_precip_mm                       0\n",
       "total_cases                             0\n",
       "dtype: int64"
      ]
     },
     "execution_count": 98,
     "metadata": {},
     "output_type": "execute_result"
    }
   ],
   "source": [
    "dg.isnull().sum()"
   ]
  },
  {
   "cell_type": "markdown",
   "metadata": {},
   "source": [
    "As you can see, there are no missing values in the modified data set. We can proceed with this data frame and run linear regression. But before that, we will have to drop the target variable because in sklearn library, the linear regression function treats each variable passed in training features as training data unlike R."
   ]
  },
  {
   "cell_type": "code",
   "execution_count": 99,
   "metadata": {
    "collapsed": true
   },
   "outputs": [],
   "source": [
    "dg.drop('total_cases',axis=1,inplace=True)"
   ]
  },
  {
   "cell_type": "markdown",
   "metadata": {},
   "source": [
    "This will be the final dataframe which we will be using in our model. \n",
    "Let's prepare our target variable. In next cell, I have just imported the label file and dropped all the columns except target variable to prepare it for applying  in linear regression.\n"
   ]
  },
  {
   "cell_type": "code",
   "execution_count": 100,
   "metadata": {
    "collapsed": true
   },
   "outputs": [],
   "source": [
    "ab = pd.read_csv(\"C:/Users/HP/Desktop/dengue_labels_train.csv\")\n",
    "ab.drop(['city','year','weekofyear'],axis=1,inplace=True)"
   ]
  },
  {
   "cell_type": "code",
   "execution_count": 101,
   "metadata": {},
   "outputs": [
    {
     "data": {
      "text/html": [
       "<div>\n",
       "<style>\n",
       "    .dataframe thead tr:only-child th {\n",
       "        text-align: right;\n",
       "    }\n",
       "\n",
       "    .dataframe thead th {\n",
       "        text-align: left;\n",
       "    }\n",
       "\n",
       "    .dataframe tbody tr th {\n",
       "        vertical-align: top;\n",
       "    }\n",
       "</style>\n",
       "<table border=\"1\" class=\"dataframe\">\n",
       "  <thead>\n",
       "    <tr style=\"text-align: right;\">\n",
       "      <th></th>\n",
       "      <th>total_cases</th>\n",
       "    </tr>\n",
       "  </thead>\n",
       "  <tbody>\n",
       "    <tr>\n",
       "      <th>0</th>\n",
       "      <td>4</td>\n",
       "    </tr>\n",
       "    <tr>\n",
       "      <th>1</th>\n",
       "      <td>5</td>\n",
       "    </tr>\n",
       "    <tr>\n",
       "      <th>2</th>\n",
       "      <td>4</td>\n",
       "    </tr>\n",
       "    <tr>\n",
       "      <th>3</th>\n",
       "      <td>3</td>\n",
       "    </tr>\n",
       "    <tr>\n",
       "      <th>4</th>\n",
       "      <td>6</td>\n",
       "    </tr>\n",
       "  </tbody>\n",
       "</table>\n",
       "</div>"
      ],
      "text/plain": [
       "   total_cases\n",
       "0            4\n",
       "1            5\n",
       "2            4\n",
       "3            3\n",
       "4            6"
      ]
     },
     "execution_count": 101,
     "metadata": {},
     "output_type": "execute_result"
    }
   ],
   "source": [
    "ab.head()"
   ]
  },
  {
   "cell_type": "code",
   "execution_count": 102,
   "metadata": {},
   "outputs": [
    {
     "name": "stdout",
     "output_type": "stream",
     "text": [
      "<class 'pandas.core.frame.DataFrame'>\n",
      "RangeIndex: 1456 entries, 0 to 1455\n",
      "Data columns (total 1 columns):\n",
      "total_cases    1456 non-null int64\n",
      "dtypes: int64(1)\n",
      "memory usage: 11.5 KB\n"
     ]
    }
   ],
   "source": [
    "ab.info()"
   ]
  },
  {
   "cell_type": "markdown",
   "metadata": {},
   "source": [
    "Since we want to run linear regression, we should keep only those variables which really affect\n",
    "the dependent variable. For example, in our present case the name of city does not affect the outcome sinificantly. So I will drop the city column before feeding our data frame in ragression function. City would have been important if we just had several cities or states and number of cases in each city as our data set. Similarly, you can think of date of start of week and year. So, I will drop these columns from data frame 'dg'. "
   ]
  },
  {
   "cell_type": "code",
   "execution_count": 103,
   "metadata": {
    "collapsed": true
   },
   "outputs": [],
   "source": [
    "dg.drop(['city','week_start_date','year'],axis=1,inplace=True)\n"
   ]
  },
  {
   "cell_type": "markdown",
   "metadata": {},
   "source": [
    "After such a long fight in analysing and preparing data, We are ready to make our first predictive model. Excited! Here we go."
   ]
  },
  {
   "cell_type": "code",
   "execution_count": 104,
   "metadata": {},
   "outputs": [
    {
     "name": "stderr",
     "output_type": "stream",
     "text": [
      "C:\\Users\\HP\\Anaconda3\\lib\\site-packages\\sklearn\\cross_validation.py:44: DeprecationWarning: This module was deprecated in version 0.18 in favor of the model_selection module into which all the refactored classes and functions are moved. Also note that the interface of the new CV iterators are different from that of this module. This module will be removed in 0.20.\n",
      "  \"This module will be removed in 0.20.\", DeprecationWarning)\n"
     ]
    }
   ],
   "source": [
    "import sklearn as skl\n",
    "from sklearn import linear_model\n",
    "from sklearn.cross_validation import train_test_split"
   ]
  },
  {
   "cell_type": "markdown",
   "metadata": {
    "collapsed": true
   },
   "source": [
    "In the above cell, I have imported the necessary libraries and functions for making our regression model. Note that I have not treated outliers in the data. Also, I have not made skewed distributions normal. This model is just a preliminary model.\n",
    "One further note, if you can't get the linear regrerssion code for now don't worry. Our purpose is to explore and prepare data for any kind of machine learning algorithm."
   ]
  },
  {
   "cell_type": "code",
   "execution_count": 105,
   "metadata": {
    "collapsed": true
   },
   "outputs": [],
   "source": [
    "rgr = linear_model.LinearRegression()"
   ]
  },
  {
   "cell_type": "markdown",
   "metadata": {},
   "source": [
    "In the next line, I will split the data set into training set 'x' and validation set 'y'. "
   ]
  },
  {
   "cell_type": "code",
   "execution_count": 106,
   "metadata": {
    "collapsed": true
   },
   "outputs": [],
   "source": [
    "x_train,y_train,x_test,y_test = train_test_split(dg,ab,test_size=0.2,random_state=4)"
   ]
  },
  {
   "cell_type": "code",
   "execution_count": 107,
   "metadata": {},
   "outputs": [
    {
     "data": {
      "text/plain": [
       "LinearRegression(copy_X=True, fit_intercept=True, n_jobs=1, normalize=False)"
      ]
     },
     "execution_count": 107,
     "metadata": {},
     "output_type": "execute_result"
    }
   ],
   "source": [
    "rgr.fit(x_train,x_test)"
   ]
  },
  {
   "cell_type": "markdown",
   "metadata": {},
   "source": [
    "Done with linear regression! Let's look at the parameters. Yes, you have finally got those magical parameters. Can't believe? Go ahead and have a look."
   ]
  },
  {
   "cell_type": "code",
   "execution_count": 108,
   "metadata": {},
   "outputs": [
    {
     "data": {
      "text/plain": [
       "array([[  6.39974973e-01,   1.63759261e+01,   2.35746515e+01,\n",
       "         -1.41329793e+02,   9.89121296e+01,  -1.44093304e+01,\n",
       "          1.44166326e+01,   2.65522666e-02,   2.25125658e+00,\n",
       "          1.97095878e-02,  -2.91055411e+00,  -3.70371413e-02,\n",
       "          3.88200554e-01,   1.39741550e-03]])"
      ]
     },
     "execution_count": 108,
     "metadata": {},
     "output_type": "execute_result"
    }
   ],
   "source": [
    "rgr.coef_"
   ]
  },
  {
   "cell_type": "markdown",
   "metadata": {},
   "source": [
    "Now, the time to make predictions. Here we go!"
   ]
  },
  {
   "cell_type": "code",
   "execution_count": 109,
   "metadata": {
    "collapsed": true
   },
   "outputs": [],
   "source": [
    "#predictions by model\n",
    "predictions = rgr.predict(y_train)"
   ]
  },
  {
   "cell_type": "code",
   "execution_count": 110,
   "metadata": {},
   "outputs": [
    {
     "data": {
      "text/plain": [
       "array([[ 28.33548465],\n",
       "       [  0.8316522 ],\n",
       "       [ 50.26451187],\n",
       "       [ 12.56090276],\n",
       "       [ 46.97795671],\n",
       "       [ 32.38534901],\n",
       "       [ 43.15828056],\n",
       "       [ 41.86124673],\n",
       "       [ 15.70231329],\n",
       "       [ 19.78576806],\n",
       "       [ -1.29385505],\n",
       "       [ 32.28579182],\n",
       "       [ 21.80592029],\n",
       "       [ 26.0587137 ],\n",
       "       [ 23.51028308],\n",
       "       [ 24.51868749],\n",
       "       [ 16.11036445],\n",
       "       [ 40.78442883],\n",
       "       [ 24.48473253],\n",
       "       [ 12.46060244],\n",
       "       [ -3.82038886],\n",
       "       [ 52.24223791],\n",
       "       [ 33.29823164],\n",
       "       [ 39.03195545],\n",
       "       [  5.52033646],\n",
       "       [ 16.02147858],\n",
       "       [ 44.09265449],\n",
       "       [ 37.68071526],\n",
       "       [ -6.31524101],\n",
       "       [ 49.18649373],\n",
       "       [ -3.0476993 ],\n",
       "       [ 55.46569645],\n",
       "       [ 15.13337337],\n",
       "       [ 51.30832877],\n",
       "       [ 54.17155116],\n",
       "       [  5.0228478 ],\n",
       "       [-18.95767313],\n",
       "       [ -0.38402352],\n",
       "       [ 51.21714871],\n",
       "       [ 10.24722528],\n",
       "       [-21.83537293],\n",
       "       [ 12.14647398],\n",
       "       [ 27.59219153],\n",
       "       [ 26.40223935],\n",
       "       [ 32.64444565],\n",
       "       [ 23.6439613 ],\n",
       "       [ 40.59214476],\n",
       "       [ 44.75192815],\n",
       "       [ 34.90450554],\n",
       "       [ 20.72460396],\n",
       "       [ 11.4708657 ],\n",
       "       [ -6.88469176],\n",
       "       [ 40.01499139],\n",
       "       [-10.1768652 ],\n",
       "       [  0.69905591],\n",
       "       [  6.42125382],\n",
       "       [ 37.81162844],\n",
       "       [ 35.94794699],\n",
       "       [ 36.42960322],\n",
       "       [ 21.91485029],\n",
       "       [  2.9929415 ],\n",
       "       [ 46.84054293],\n",
       "       [ 21.87121732],\n",
       "       [-12.99620289],\n",
       "       [  1.89460924],\n",
       "       [  7.72584331],\n",
       "       [ 29.96022408],\n",
       "       [ 27.81326749],\n",
       "       [ 46.41525857],\n",
       "       [ 20.55700538],\n",
       "       [  3.76389268],\n",
       "       [ 15.34718219],\n",
       "       [ 38.07395269],\n",
       "       [  6.53528551],\n",
       "       [ 39.03849986],\n",
       "       [ 35.30177446],\n",
       "       [ 37.65898209],\n",
       "       [  0.08893879],\n",
       "       [ 25.26141749],\n",
       "       [ 16.55167123],\n",
       "       [ 29.23032396],\n",
       "       [ 22.08481741],\n",
       "       [ 37.85926012],\n",
       "       [ 21.72919124],\n",
       "       [ 17.61824399],\n",
       "       [ 21.84746598],\n",
       "       [ 46.1913394 ],\n",
       "       [ 38.73714542],\n",
       "       [  8.58580876],\n",
       "       [  1.274364  ],\n",
       "       [ 28.29843113],\n",
       "       [ 34.52427686],\n",
       "       [ -6.9291618 ],\n",
       "       [ 44.83055298],\n",
       "       [ 36.69584592],\n",
       "       [ 52.08787102],\n",
       "       [  6.69942052],\n",
       "       [ 15.66492537],\n",
       "       [ 14.33501406],\n",
       "       [  8.98191543],\n",
       "       [  5.77039046],\n",
       "       [ 33.64656986],\n",
       "       [ 41.46516383],\n",
       "       [  0.46064665],\n",
       "       [  3.09810948],\n",
       "       [ 38.46583927],\n",
       "       [ 14.35876111],\n",
       "       [ 33.88055039],\n",
       "       [ 21.72504865],\n",
       "       [ 38.74918095],\n",
       "       [ -0.40946048],\n",
       "       [ 38.53971036],\n",
       "       [ 39.16503567],\n",
       "       [  2.14382727],\n",
       "       [ 18.58148031],\n",
       "       [ 26.41312119],\n",
       "       [ 38.70272105],\n",
       "       [ 33.28785824],\n",
       "       [  9.5779443 ],\n",
       "       [ -4.05235084],\n",
       "       [ 35.79287822],\n",
       "       [ 40.71251034],\n",
       "       [ 13.93067205],\n",
       "       [ 25.93252376],\n",
       "       [ 11.77224375],\n",
       "       [ 43.73222043],\n",
       "       [ 41.59870679],\n",
       "       [  4.02399866],\n",
       "       [ 48.50276768],\n",
       "       [ 30.14918583],\n",
       "       [ 36.32019629],\n",
       "       [  6.62368368],\n",
       "       [ 12.72003375],\n",
       "       [ 49.33528817],\n",
       "       [ 14.08543532],\n",
       "       [ 21.08831109],\n",
       "       [ 25.42726478],\n",
       "       [ 46.37908892],\n",
       "       [-12.35646984],\n",
       "       [ 30.46885841],\n",
       "       [ 37.45073452],\n",
       "       [ 13.09725605],\n",
       "       [  9.94125688],\n",
       "       [ 14.23100633],\n",
       "       [ 52.12543348],\n",
       "       [ 11.5720057 ],\n",
       "       [ 46.18435732],\n",
       "       [  2.50003195],\n",
       "       [ 14.01091641],\n",
       "       [ 38.66260978],\n",
       "       [ 28.16320957],\n",
       "       [ 25.42572248],\n",
       "       [ 24.77213649],\n",
       "       [ -1.04324125],\n",
       "       [ 35.54282477],\n",
       "       [ 35.82089904],\n",
       "       [ 45.29671946],\n",
       "       [ 43.99926694],\n",
       "       [ 43.88031044],\n",
       "       [ 19.37860863],\n",
       "       [ 11.29199316],\n",
       "       [ 18.06819398],\n",
       "       [ 51.96720797],\n",
       "       [ 26.00584702],\n",
       "       [ 43.5812632 ],\n",
       "       [ 47.6827764 ],\n",
       "       [ -7.76426226],\n",
       "       [ 31.17938033],\n",
       "       [ 21.88481861],\n",
       "       [ 48.37355512],\n",
       "       [ 21.36439747],\n",
       "       [ 33.47439752],\n",
       "       [ 48.94288322],\n",
       "       [ 44.98919844],\n",
       "       [-12.46957868],\n",
       "       [ 15.61135786],\n",
       "       [  8.39901099],\n",
       "       [  3.69711342],\n",
       "       [  1.51206942],\n",
       "       [ 13.60571918],\n",
       "       [  1.88979278],\n",
       "       [ 19.66724347],\n",
       "       [ 34.73074069],\n",
       "       [ 20.59369837],\n",
       "       [ 39.04777657],\n",
       "       [ 43.15235479],\n",
       "       [ 51.46205529],\n",
       "       [ -8.70930898],\n",
       "       [ 44.42762645],\n",
       "       [ 54.42879639],\n",
       "       [  8.51271196],\n",
       "       [ 25.04663178],\n",
       "       [ 37.85647991],\n",
       "       [ 44.1610722 ],\n",
       "       [  8.76939727],\n",
       "       [ 28.06566197],\n",
       "       [ 43.03996386],\n",
       "       [ -2.08232646],\n",
       "       [ 11.31372764],\n",
       "       [ -1.33373077],\n",
       "       [  3.73752428],\n",
       "       [ 30.48771138],\n",
       "       [ -9.51503086],\n",
       "       [ 52.51868804],\n",
       "       [ 18.7239181 ],\n",
       "       [ 20.71648998],\n",
       "       [ 40.57285527],\n",
       "       [ 41.93212886],\n",
       "       [ -7.28547195],\n",
       "       [ 13.23395022],\n",
       "       [ 40.03730342],\n",
       "       [ 44.68268092],\n",
       "       [ 44.22895795],\n",
       "       [ 25.42999181],\n",
       "       [  5.46459981],\n",
       "       [ -0.29584007],\n",
       "       [ 17.40558522],\n",
       "       [ 34.31631353],\n",
       "       [ 46.45309921],\n",
       "       [  5.57122019],\n",
       "       [ 22.72493713],\n",
       "       [ 36.99295588],\n",
       "       [ -8.70407273],\n",
       "       [  6.09576202],\n",
       "       [ 21.61662602],\n",
       "       [ 18.54613144],\n",
       "       [  6.32717704],\n",
       "       [-11.1247453 ],\n",
       "       [ 20.96471191],\n",
       "       [ 27.39685884],\n",
       "       [ 13.05794967],\n",
       "       [ 42.81199093],\n",
       "       [ 12.63892434],\n",
       "       [ 42.88784519],\n",
       "       [ 45.18592857],\n",
       "       [ 32.94519573],\n",
       "       [ 47.65699457],\n",
       "       [ -2.52481114],\n",
       "       [ 43.82065272],\n",
       "       [ 57.8886916 ],\n",
       "       [ 16.75860145],\n",
       "       [ 20.87540223],\n",
       "       [ -5.93695392],\n",
       "       [ -3.34885541],\n",
       "       [ 49.51424159],\n",
       "       [ 21.29713917],\n",
       "       [ 41.24818775],\n",
       "       [  1.89002072],\n",
       "       [  8.85494452],\n",
       "       [ -2.25632141],\n",
       "       [ 19.1863055 ],\n",
       "       [ 28.49808371],\n",
       "       [ 19.03838731],\n",
       "       [  6.93319808],\n",
       "       [ 29.41731028],\n",
       "       [ 39.42918531],\n",
       "       [ 29.66860691],\n",
       "       [ 58.12113856],\n",
       "       [ 30.27976021],\n",
       "       [ 30.79863875],\n",
       "       [  2.33737484],\n",
       "       [ 11.04505286],\n",
       "       [  6.0627388 ],\n",
       "       [ 19.91649028],\n",
       "       [ 39.73528473],\n",
       "       [ 14.47480252],\n",
       "       [ 21.57495432],\n",
       "       [-18.66761975],\n",
       "       [ 21.10052695],\n",
       "       [ 46.36791251],\n",
       "       [ 28.29267379],\n",
       "       [ 34.51430509],\n",
       "       [  0.14330547],\n",
       "       [ 42.51105422],\n",
       "       [  6.68064486],\n",
       "       [ 20.02875571],\n",
       "       [ 33.70482515],\n",
       "       [ 22.30410694],\n",
       "       [ 42.51466525],\n",
       "       [ 30.09984562],\n",
       "       [ 40.76038802],\n",
       "       [  2.27559135],\n",
       "       [ 19.99887605],\n",
       "       [-11.17431523],\n",
       "       [ 34.02376405],\n",
       "       [ 42.19197302],\n",
       "       [ -0.27753732],\n",
       "       [  7.64128209],\n",
       "       [ 48.93988334],\n",
       "       [ 11.99472586],\n",
       "       [ 42.96417984],\n",
       "       [ 21.71647028]])"
      ]
     },
     "execution_count": 110,
     "metadata": {},
     "output_type": "execute_result"
    }
   ],
   "source": [
    "predictions\n"
   ]
  },
  {
   "cell_type": "markdown",
   "metadata": {},
   "source": [
    "\n",
    "Let me print the validation test array for you to cross check."
   ]
  },
  {
   "cell_type": "code",
   "execution_count": 111,
   "metadata": {},
   "outputs": [
    {
     "data": {
      "text/html": [
       "<div>\n",
       "<style>\n",
       "    .dataframe thead tr:only-child th {\n",
       "        text-align: right;\n",
       "    }\n",
       "\n",
       "    .dataframe thead th {\n",
       "        text-align: left;\n",
       "    }\n",
       "\n",
       "    .dataframe tbody tr th {\n",
       "        vertical-align: top;\n",
       "    }\n",
       "</style>\n",
       "<table border=\"1\" class=\"dataframe\">\n",
       "  <thead>\n",
       "    <tr style=\"text-align: right;\">\n",
       "      <th></th>\n",
       "      <th>total_cases</th>\n",
       "    </tr>\n",
       "  </thead>\n",
       "  <tbody>\n",
       "    <tr>\n",
       "      <th>574</th>\n",
       "      <td>8</td>\n",
       "    </tr>\n",
       "    <tr>\n",
       "      <th>1003</th>\n",
       "      <td>0</td>\n",
       "    </tr>\n",
       "    <tr>\n",
       "      <th>132</th>\n",
       "      <td>34</td>\n",
       "    </tr>\n",
       "    <tr>\n",
       "      <th>1302</th>\n",
       "      <td>1</td>\n",
       "    </tr>\n",
       "    <tr>\n",
       "      <th>436</th>\n",
       "      <td>54</td>\n",
       "    </tr>\n",
       "    <tr>\n",
       "      <th>885</th>\n",
       "      <td>8</td>\n",
       "    </tr>\n",
       "    <tr>\n",
       "      <th>133</th>\n",
       "      <td>47</td>\n",
       "    </tr>\n",
       "    <tr>\n",
       "      <th>588</th>\n",
       "      <td>35</td>\n",
       "    </tr>\n",
       "    <tr>\n",
       "      <th>1327</th>\n",
       "      <td>58</td>\n",
       "    </tr>\n",
       "    <tr>\n",
       "      <th>832</th>\n",
       "      <td>3</td>\n",
       "    </tr>\n",
       "    <tr>\n",
       "      <th>1225</th>\n",
       "      <td>10</td>\n",
       "    </tr>\n",
       "    <tr>\n",
       "      <th>708</th>\n",
       "      <td>26</td>\n",
       "    </tr>\n",
       "    <tr>\n",
       "      <th>566</th>\n",
       "      <td>8</td>\n",
       "    </tr>\n",
       "    <tr>\n",
       "      <th>204</th>\n",
       "      <td>23</td>\n",
       "    </tr>\n",
       "    <tr>\n",
       "      <th>209</th>\n",
       "      <td>22</td>\n",
       "    </tr>\n",
       "    <tr>\n",
       "      <th>254</th>\n",
       "      <td>7</td>\n",
       "    </tr>\n",
       "    <tr>\n",
       "      <th>974</th>\n",
       "      <td>0</td>\n",
       "    </tr>\n",
       "    <tr>\n",
       "      <th>437</th>\n",
       "      <td>80</td>\n",
       "    </tr>\n",
       "    <tr>\n",
       "      <th>413</th>\n",
       "      <td>32</td>\n",
       "    </tr>\n",
       "    <tr>\n",
       "      <th>1198</th>\n",
       "      <td>3</td>\n",
       "    </tr>\n",
       "    <tr>\n",
       "      <th>1336</th>\n",
       "      <td>9</td>\n",
       "    </tr>\n",
       "    <tr>\n",
       "      <th>502</th>\n",
       "      <td>17</td>\n",
       "    </tr>\n",
       "    <tr>\n",
       "      <th>158</th>\n",
       "      <td>10</td>\n",
       "    </tr>\n",
       "    <tr>\n",
       "      <th>65</th>\n",
       "      <td>25</td>\n",
       "    </tr>\n",
       "    <tr>\n",
       "      <th>1341</th>\n",
       "      <td>1</td>\n",
       "    </tr>\n",
       "    <tr>\n",
       "      <th>1147</th>\n",
       "      <td>7</td>\n",
       "    </tr>\n",
       "    <tr>\n",
       "      <th>431</th>\n",
       "      <td>263</td>\n",
       "    </tr>\n",
       "    <tr>\n",
       "      <th>58</th>\n",
       "      <td>21</td>\n",
       "    </tr>\n",
       "    <tr>\n",
       "      <th>1432</th>\n",
       "      <td>9</td>\n",
       "    </tr>\n",
       "    <tr>\n",
       "      <th>703</th>\n",
       "      <td>39</td>\n",
       "    </tr>\n",
       "    <tr>\n",
       "      <th>...</th>\n",
       "      <td>...</td>\n",
       "    </tr>\n",
       "    <tr>\n",
       "      <th>1148</th>\n",
       "      <td>6</td>\n",
       "    </tr>\n",
       "    <tr>\n",
       "      <th>829</th>\n",
       "      <td>1</td>\n",
       "    </tr>\n",
       "    <tr>\n",
       "      <th>15</th>\n",
       "      <td>13</td>\n",
       "    </tr>\n",
       "    <tr>\n",
       "      <th>1039</th>\n",
       "      <td>3</td>\n",
       "    </tr>\n",
       "    <tr>\n",
       "      <th>1115</th>\n",
       "      <td>6</td>\n",
       "    </tr>\n",
       "    <tr>\n",
       "      <th>1328</th>\n",
       "      <td>26</td>\n",
       "    </tr>\n",
       "    <tr>\n",
       "      <th>1141</th>\n",
       "      <td>6</td>\n",
       "    </tr>\n",
       "    <tr>\n",
       "      <th>476</th>\n",
       "      <td>7</td>\n",
       "    </tr>\n",
       "    <tr>\n",
       "      <th>157</th>\n",
       "      <td>17</td>\n",
       "    </tr>\n",
       "    <tr>\n",
       "      <th>640</th>\n",
       "      <td>6</td>\n",
       "    </tr>\n",
       "    <tr>\n",
       "      <th>1455</th>\n",
       "      <td>4</td>\n",
       "    </tr>\n",
       "    <tr>\n",
       "      <th>120</th>\n",
       "      <td>52</td>\n",
       "    </tr>\n",
       "    <tr>\n",
       "      <th>1259</th>\n",
       "      <td>3</td>\n",
       "    </tr>\n",
       "    <tr>\n",
       "      <th>1368</th>\n",
       "      <td>44</td>\n",
       "    </tr>\n",
       "    <tr>\n",
       "      <th>366</th>\n",
       "      <td>9</td>\n",
       "    </tr>\n",
       "    <tr>\n",
       "      <th>513</th>\n",
       "      <td>2</td>\n",
       "    </tr>\n",
       "    <tr>\n",
       "      <th>225</th>\n",
       "      <td>115</td>\n",
       "    </tr>\n",
       "    <tr>\n",
       "      <th>576</th>\n",
       "      <td>5</td>\n",
       "    </tr>\n",
       "    <tr>\n",
       "      <th>761</th>\n",
       "      <td>15</td>\n",
       "    </tr>\n",
       "    <tr>\n",
       "      <th>1000</th>\n",
       "      <td>0</td>\n",
       "    </tr>\n",
       "    <tr>\n",
       "      <th>723</th>\n",
       "      <td>11</td>\n",
       "    </tr>\n",
       "    <tr>\n",
       "      <th>1252</th>\n",
       "      <td>2</td>\n",
       "    </tr>\n",
       "    <tr>\n",
       "      <th>172</th>\n",
       "      <td>23</td>\n",
       "    </tr>\n",
       "    <tr>\n",
       "      <th>1163</th>\n",
       "      <td>37</td>\n",
       "    </tr>\n",
       "    <tr>\n",
       "      <th>1403</th>\n",
       "      <td>2</td>\n",
       "    </tr>\n",
       "    <tr>\n",
       "      <th>247</th>\n",
       "      <td>46</td>\n",
       "    </tr>\n",
       "    <tr>\n",
       "      <th>758</th>\n",
       "      <td>8</td>\n",
       "    </tr>\n",
       "    <tr>\n",
       "      <th>973</th>\n",
       "      <td>0</td>\n",
       "    </tr>\n",
       "    <tr>\n",
       "      <th>650</th>\n",
       "      <td>10</td>\n",
       "    </tr>\n",
       "    <tr>\n",
       "      <th>358</th>\n",
       "      <td>9</td>\n",
       "    </tr>\n",
       "  </tbody>\n",
       "</table>\n",
       "<p>292 rows × 1 columns</p>\n",
       "</div>"
      ],
      "text/plain": [
       "      total_cases\n",
       "574             8\n",
       "1003            0\n",
       "132            34\n",
       "1302            1\n",
       "436            54\n",
       "885             8\n",
       "133            47\n",
       "588            35\n",
       "1327           58\n",
       "832             3\n",
       "1225           10\n",
       "708            26\n",
       "566             8\n",
       "204            23\n",
       "209            22\n",
       "254             7\n",
       "974             0\n",
       "437            80\n",
       "413            32\n",
       "1198            3\n",
       "1336            9\n",
       "502            17\n",
       "158            10\n",
       "65             25\n",
       "1341            1\n",
       "1147            7\n",
       "431           263\n",
       "58             21\n",
       "1432            9\n",
       "703            39\n",
       "...           ...\n",
       "1148            6\n",
       "829             1\n",
       "15             13\n",
       "1039            3\n",
       "1115            6\n",
       "1328           26\n",
       "1141            6\n",
       "476             7\n",
       "157            17\n",
       "640             6\n",
       "1455            4\n",
       "120            52\n",
       "1259            3\n",
       "1368           44\n",
       "366             9\n",
       "513             2\n",
       "225           115\n",
       "576             5\n",
       "761            15\n",
       "1000            0\n",
       "723            11\n",
       "1252            2\n",
       "172            23\n",
       "1163           37\n",
       "1403            2\n",
       "247            46\n",
       "758             8\n",
       "973             0\n",
       "650            10\n",
       "358             9\n",
       "\n",
       "[292 rows x 1 columns]"
      ]
     },
     "execution_count": 111,
     "metadata": {},
     "output_type": "execute_result"
    }
   ],
   "source": [
    "y_test"
   ]
  },
  {
   "cell_type": "markdown",
   "metadata": {},
   "source": [
    "Finally, it's time for evaluation of our predictions. "
   ]
  },
  {
   "cell_type": "code",
   "execution_count": 112,
   "metadata": {
    "collapsed": true
   },
   "outputs": [],
   "source": [
    "mse = np.mean((predictions-y_test)**2)"
   ]
  },
  {
   "cell_type": "code",
   "execution_count": 113,
   "metadata": {},
   "outputs": [
    {
     "data": {
      "text/plain": [
       "total_cases    30.943644\n",
       "dtype: float64"
      ]
     },
     "execution_count": 113,
     "metadata": {},
     "output_type": "execute_result"
    }
   ],
   "source": [
    "rmse = np.sqrt(mse)\n",
    "rmse/1.41"
   ]
  },
  {
   "cell_type": "code",
   "execution_count": 114,
   "metadata": {},
   "outputs": [
    {
     "data": {
      "text/plain": [
       "total_cases    27.435875\n",
       "dtype: float64"
      ]
     },
     "execution_count": 114,
     "metadata": {},
     "output_type": "execute_result"
    }
   ],
   "source": [
    "np.sqrt(np.mean((rgr.predict(x_train)-x_test)**2)/2)"
   ]
  },
  {
   "cell_type": "code",
   "execution_count": 115,
   "metadata": {
    "collapsed": true
   },
   "outputs": [],
   "source": [
    "reg_ridge = linear_model.Ridge (alpha = .001,normalize=True)"
   ]
  },
  {
   "cell_type": "code",
   "execution_count": 116,
   "metadata": {},
   "outputs": [
    {
     "data": {
      "text/plain": [
       "Ridge(alpha=0.001, copy_X=True, fit_intercept=True, max_iter=None,\n",
       "   normalize=True, random_state=None, solver='auto', tol=0.001)"
      ]
     },
     "execution_count": 116,
     "metadata": {},
     "output_type": "execute_result"
    }
   ],
   "source": [
    "reg_ridge.fit(x_train,x_test)"
   ]
  },
  {
   "cell_type": "code",
   "execution_count": 117,
   "metadata": {},
   "outputs": [
    {
     "data": {
      "text/plain": [
       "array([[  6.44311055e-01,   1.59512828e+01,   2.32955081e+01,\n",
       "         -1.40478742e+02,   9.81065674e+01,  -1.29201568e+01,\n",
       "          1.29359709e+01,  -2.22900839e-01,   2.31134220e+00,\n",
       "          2.02672936e-02,  -2.62939896e+00,  -3.63890217e-02,\n",
       "          4.82479358e-01,   8.30049651e-04]])"
      ]
     },
     "execution_count": 117,
     "metadata": {},
     "output_type": "execute_result"
    }
   ],
   "source": [
    "reg_ridge.coef_"
   ]
  },
  {
   "cell_type": "code",
   "execution_count": 118,
   "metadata": {
    "collapsed": true
   },
   "outputs": [],
   "source": [
    "predictions_ridge=reg_ridge.predict(y_train)"
   ]
  },
  {
   "cell_type": "code",
   "execution_count": 119,
   "metadata": {},
   "outputs": [
    {
     "data": {
      "text/plain": [
       "total_cases    27.436895\n",
       "dtype: float64"
      ]
     },
     "execution_count": 119,
     "metadata": {},
     "output_type": "execute_result"
    }
   ],
   "source": [
    "np.sqrt(np.mean((reg_ridge.predict(x_train)-x_test)**2)/2)"
   ]
  }
 ],
 "metadata": {
  "kernelspec": {
   "display_name": "Python 3",
   "language": "python",
   "name": "python3"
  },
  "language_info": {
   "codemirror_mode": {
    "name": "ipython",
    "version": 3
   },
   "file_extension": ".py",
   "mimetype": "text/x-python",
   "name": "python",
   "nbconvert_exporter": "python",
   "pygments_lexer": "ipython3",
   "version": "3.6.1"
  }
 },
 "nbformat": 4,
 "nbformat_minor": 2
}
